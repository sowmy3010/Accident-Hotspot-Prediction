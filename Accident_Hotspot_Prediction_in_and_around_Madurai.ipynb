{
  "nbformat": 4,
  "nbformat_minor": 0,
  "metadata": {
    "colab": {
      "provenance": [],
      "collapsed_sections": [
        "MQ62cQeDktNQ"
      ]
    },
    "kernelspec": {
      "name": "python3",
      "display_name": "Python 3"
    },
    "language_info": {
      "name": "python"
    }
  },
  "cells": [
    {
      "cell_type": "code",
      "execution_count": null,
      "metadata": {
        "id": "G3FozTNJxSXz",
        "colab": {
          "base_uri": "https://localhost:8080/"
        },
        "outputId": "fffe45fa-a087-4629-b305-7de9af87fa5d"
      },
      "outputs": [
        {
          "output_type": "stream",
          "name": "stdout",
          "text": [
            "Mounted at /content/drive\n"
          ]
        }
      ],
      "source": [
        "from google.colab import drive\n",
        "drive.mount('/content/drive')"
      ]
    },
    {
      "cell_type": "code",
      "source": [
        "file_path = '/content/drive/My Drive/Machine Learning/Accident_Dataset.csv'"
      ],
      "metadata": {
        "id": "4beJN3RMxkKc"
      },
      "execution_count": null,
      "outputs": []
    },
    {
      "cell_type": "code",
      "source": [
        "import pandas as pd\n",
        "\n",
        "dataset = pd.read_csv(file_path)\n",
        "\n",
        "dataset"
      ],
      "metadata": {
        "colab": {
          "base_uri": "https://localhost:8080/",
          "height": 424
        },
        "id": "yz7tzFXyxpbL",
        "outputId": "63fde3da-a072-4334-aad8-383202453949"
      },
      "execution_count": null,
      "outputs": [
        {
          "output_type": "execute_result",
          "data": {
            "text/plain": [
              "       Accident_Index                           Accident_Area     Latitude  \\\n",
              "0                   1                       Alagar Kovil Road      9.99263   \n",
              "1                   2                        Kalavasal Signal      9.92759   \n",
              "2                   3                      Goripalayam signal  9.929554465   \n",
              "3                   4        SIGNAL NEAR KK NAGAR BUN PARROTA     9.926579   \n",
              "4                   5  Pykara bus stop, Tirupparankunram Road     9.898202   \n",
              "...               ...                                     ...          ...   \n",
              "12169           12170                           Bye pass road      9.92759   \n",
              "12170           12171                    Viraganoor ring road     9.901015   \n",
              "12171           12172                        Kalavasal Signal      9.92759   \n",
              "12172           12173                      Bus stand, K.Pudur       9.9473   \n",
              "12173           12174                              Teppakulam     9.911215   \n",
              "\n",
              "       Longitude Accident_Severity Day_of_Week   Time       Road_Type  \\\n",
              "0      78.177017        Fatalities   Wednesday  17:42        Highways   \n",
              "1      78.097020      Major Injury    Thursday  17:36  Potholed Roads   \n",
              "2      78.130139      Major Injury      Friday  00:15        Highways   \n",
              "3      78.142337      Major Injury    Saturday  10:35        Highways   \n",
              "4      78.089922      Major Injury     Tuesday  21:13        Highways   \n",
              "...          ...               ...         ...    ...             ...   \n",
              "12169  78.097020      Minor Injury   Wednesday  20:00        Highways   \n",
              "12170  78.164806      Minor Injury    Thursday  17:15  Potholed Roads   \n",
              "12171  78.097020      Minor Injury    Thursday  18:59        Highways   \n",
              "12172  78.145400      Minor Injury    Thursday  16:11        Highways   \n",
              "12173  78.149643      Minor Injury    Thursday  16:45        Highways   \n",
              "\n",
              "       Speed_limit      Light_Conditions Weather_Conditions  \\\n",
              "0               60        Clear Daylight        Strong Wind   \n",
              "1               55  Poor Street Lighting              Rainy   \n",
              "2               30  Poor Street Lighting              Rainy   \n",
              "3               30        Clear Daylight              Rainy   \n",
              "4               40                   NaN              Rainy   \n",
              "...            ...                   ...                ...   \n",
              "12169           35  Poor Street Lighting        Strong Wind   \n",
              "12170           30        Clear Daylight              Rainy   \n",
              "12171           40        Clear Daylight        Strong Wind   \n",
              "12172           55        Clear Daylight              Rainy   \n",
              "12173           30        Clear Daylight              Rainy   \n",
              "\n",
              "      Road_Surface_Conditions        Date  \n",
              "0             uneven surfaces  04-01-2018  \n",
              "1                wet surfaces  05-01-2018  \n",
              "2                wet surfaces  06-01-2018  \n",
              "3                wet surfaces  07-01-2018  \n",
              "4             uneven surfaces  10-01-2018  \n",
              "...                       ...         ...  \n",
              "12169         uneven surfaces  29-03-2018  \n",
              "12170            wet surfaces  16-02-2018  \n",
              "12171         uneven surfaces  01-06-2018  \n",
              "12172            wet surfaces  08-06-2018  \n",
              "12173            wet surfaces  15-06-2018  \n",
              "\n",
              "[12174 rows x 13 columns]"
            ],
            "text/html": [
              "\n",
              "  <div id=\"df-4e583c61-2f16-4218-a61d-3b63d963f59d\" class=\"colab-df-container\">\n",
              "    <div>\n",
              "<style scoped>\n",
              "    .dataframe tbody tr th:only-of-type {\n",
              "        vertical-align: middle;\n",
              "    }\n",
              "\n",
              "    .dataframe tbody tr th {\n",
              "        vertical-align: top;\n",
              "    }\n",
              "\n",
              "    .dataframe thead th {\n",
              "        text-align: right;\n",
              "    }\n",
              "</style>\n",
              "<table border=\"1\" class=\"dataframe\">\n",
              "  <thead>\n",
              "    <tr style=\"text-align: right;\">\n",
              "      <th></th>\n",
              "      <th>Accident_Index</th>\n",
              "      <th>Accident_Area</th>\n",
              "      <th>Latitude</th>\n",
              "      <th>Longitude</th>\n",
              "      <th>Accident_Severity</th>\n",
              "      <th>Day_of_Week</th>\n",
              "      <th>Time</th>\n",
              "      <th>Road_Type</th>\n",
              "      <th>Speed_limit</th>\n",
              "      <th>Light_Conditions</th>\n",
              "      <th>Weather_Conditions</th>\n",
              "      <th>Road_Surface_Conditions</th>\n",
              "      <th>Date</th>\n",
              "    </tr>\n",
              "  </thead>\n",
              "  <tbody>\n",
              "    <tr>\n",
              "      <th>0</th>\n",
              "      <td>1</td>\n",
              "      <td>Alagar Kovil Road</td>\n",
              "      <td>9.99263</td>\n",
              "      <td>78.177017</td>\n",
              "      <td>Fatalities</td>\n",
              "      <td>Wednesday</td>\n",
              "      <td>17:42</td>\n",
              "      <td>Highways</td>\n",
              "      <td>60</td>\n",
              "      <td>Clear Daylight</td>\n",
              "      <td>Strong Wind</td>\n",
              "      <td>uneven surfaces</td>\n",
              "      <td>04-01-2018</td>\n",
              "    </tr>\n",
              "    <tr>\n",
              "      <th>1</th>\n",
              "      <td>2</td>\n",
              "      <td>Kalavasal Signal</td>\n",
              "      <td>9.92759</td>\n",
              "      <td>78.097020</td>\n",
              "      <td>Major Injury</td>\n",
              "      <td>Thursday</td>\n",
              "      <td>17:36</td>\n",
              "      <td>Potholed Roads</td>\n",
              "      <td>55</td>\n",
              "      <td>Poor Street Lighting</td>\n",
              "      <td>Rainy</td>\n",
              "      <td>wet surfaces</td>\n",
              "      <td>05-01-2018</td>\n",
              "    </tr>\n",
              "    <tr>\n",
              "      <th>2</th>\n",
              "      <td>3</td>\n",
              "      <td>Goripalayam signal</td>\n",
              "      <td>9.929554465</td>\n",
              "      <td>78.130139</td>\n",
              "      <td>Major Injury</td>\n",
              "      <td>Friday</td>\n",
              "      <td>00:15</td>\n",
              "      <td>Highways</td>\n",
              "      <td>30</td>\n",
              "      <td>Poor Street Lighting</td>\n",
              "      <td>Rainy</td>\n",
              "      <td>wet surfaces</td>\n",
              "      <td>06-01-2018</td>\n",
              "    </tr>\n",
              "    <tr>\n",
              "      <th>3</th>\n",
              "      <td>4</td>\n",
              "      <td>SIGNAL NEAR KK NAGAR BUN PARROTA</td>\n",
              "      <td>9.926579</td>\n",
              "      <td>78.142337</td>\n",
              "      <td>Major Injury</td>\n",
              "      <td>Saturday</td>\n",
              "      <td>10:35</td>\n",
              "      <td>Highways</td>\n",
              "      <td>30</td>\n",
              "      <td>Clear Daylight</td>\n",
              "      <td>Rainy</td>\n",
              "      <td>wet surfaces</td>\n",
              "      <td>07-01-2018</td>\n",
              "    </tr>\n",
              "    <tr>\n",
              "      <th>4</th>\n",
              "      <td>5</td>\n",
              "      <td>Pykara bus stop, Tirupparankunram Road</td>\n",
              "      <td>9.898202</td>\n",
              "      <td>78.089922</td>\n",
              "      <td>Major Injury</td>\n",
              "      <td>Tuesday</td>\n",
              "      <td>21:13</td>\n",
              "      <td>Highways</td>\n",
              "      <td>40</td>\n",
              "      <td>NaN</td>\n",
              "      <td>Rainy</td>\n",
              "      <td>uneven surfaces</td>\n",
              "      <td>10-01-2018</td>\n",
              "    </tr>\n",
              "    <tr>\n",
              "      <th>...</th>\n",
              "      <td>...</td>\n",
              "      <td>...</td>\n",
              "      <td>...</td>\n",
              "      <td>...</td>\n",
              "      <td>...</td>\n",
              "      <td>...</td>\n",
              "      <td>...</td>\n",
              "      <td>...</td>\n",
              "      <td>...</td>\n",
              "      <td>...</td>\n",
              "      <td>...</td>\n",
              "      <td>...</td>\n",
              "      <td>...</td>\n",
              "    </tr>\n",
              "    <tr>\n",
              "      <th>12169</th>\n",
              "      <td>12170</td>\n",
              "      <td>Bye pass road</td>\n",
              "      <td>9.92759</td>\n",
              "      <td>78.097020</td>\n",
              "      <td>Minor Injury</td>\n",
              "      <td>Wednesday</td>\n",
              "      <td>20:00</td>\n",
              "      <td>Highways</td>\n",
              "      <td>35</td>\n",
              "      <td>Poor Street Lighting</td>\n",
              "      <td>Strong Wind</td>\n",
              "      <td>uneven surfaces</td>\n",
              "      <td>29-03-2018</td>\n",
              "    </tr>\n",
              "    <tr>\n",
              "      <th>12170</th>\n",
              "      <td>12171</td>\n",
              "      <td>Viraganoor ring road</td>\n",
              "      <td>9.901015</td>\n",
              "      <td>78.164806</td>\n",
              "      <td>Minor Injury</td>\n",
              "      <td>Thursday</td>\n",
              "      <td>17:15</td>\n",
              "      <td>Potholed Roads</td>\n",
              "      <td>30</td>\n",
              "      <td>Clear Daylight</td>\n",
              "      <td>Rainy</td>\n",
              "      <td>wet surfaces</td>\n",
              "      <td>16-02-2018</td>\n",
              "    </tr>\n",
              "    <tr>\n",
              "      <th>12171</th>\n",
              "      <td>12172</td>\n",
              "      <td>Kalavasal Signal</td>\n",
              "      <td>9.92759</td>\n",
              "      <td>78.097020</td>\n",
              "      <td>Minor Injury</td>\n",
              "      <td>Thursday</td>\n",
              "      <td>18:59</td>\n",
              "      <td>Highways</td>\n",
              "      <td>40</td>\n",
              "      <td>Clear Daylight</td>\n",
              "      <td>Strong Wind</td>\n",
              "      <td>uneven surfaces</td>\n",
              "      <td>01-06-2018</td>\n",
              "    </tr>\n",
              "    <tr>\n",
              "      <th>12172</th>\n",
              "      <td>12173</td>\n",
              "      <td>Bus stand, K.Pudur</td>\n",
              "      <td>9.9473</td>\n",
              "      <td>78.145400</td>\n",
              "      <td>Minor Injury</td>\n",
              "      <td>Thursday</td>\n",
              "      <td>16:11</td>\n",
              "      <td>Highways</td>\n",
              "      <td>55</td>\n",
              "      <td>Clear Daylight</td>\n",
              "      <td>Rainy</td>\n",
              "      <td>wet surfaces</td>\n",
              "      <td>08-06-2018</td>\n",
              "    </tr>\n",
              "    <tr>\n",
              "      <th>12173</th>\n",
              "      <td>12174</td>\n",
              "      <td>Teppakulam</td>\n",
              "      <td>9.911215</td>\n",
              "      <td>78.149643</td>\n",
              "      <td>Minor Injury</td>\n",
              "      <td>Thursday</td>\n",
              "      <td>16:45</td>\n",
              "      <td>Highways</td>\n",
              "      <td>30</td>\n",
              "      <td>Clear Daylight</td>\n",
              "      <td>Rainy</td>\n",
              "      <td>wet surfaces</td>\n",
              "      <td>15-06-2018</td>\n",
              "    </tr>\n",
              "  </tbody>\n",
              "</table>\n",
              "<p>12174 rows × 13 columns</p>\n",
              "</div>\n",
              "    <div class=\"colab-df-buttons\">\n",
              "\n",
              "  <div class=\"colab-df-container\">\n",
              "    <button class=\"colab-df-convert\" onclick=\"convertToInteractive('df-4e583c61-2f16-4218-a61d-3b63d963f59d')\"\n",
              "            title=\"Convert this dataframe to an interactive table.\"\n",
              "            style=\"display:none;\">\n",
              "\n",
              "  <svg xmlns=\"http://www.w3.org/2000/svg\" height=\"24px\" viewBox=\"0 -960 960 960\">\n",
              "    <path d=\"M120-120v-720h720v720H120Zm60-500h600v-160H180v160Zm220 220h160v-160H400v160Zm0 220h160v-160H400v160ZM180-400h160v-160H180v160Zm440 0h160v-160H620v160ZM180-180h160v-160H180v160Zm440 0h160v-160H620v160Z\"/>\n",
              "  </svg>\n",
              "    </button>\n",
              "\n",
              "  <style>\n",
              "    .colab-df-container {\n",
              "      display:flex;\n",
              "      gap: 12px;\n",
              "    }\n",
              "\n",
              "    .colab-df-convert {\n",
              "      background-color: #E8F0FE;\n",
              "      border: none;\n",
              "      border-radius: 50%;\n",
              "      cursor: pointer;\n",
              "      display: none;\n",
              "      fill: #1967D2;\n",
              "      height: 32px;\n",
              "      padding: 0 0 0 0;\n",
              "      width: 32px;\n",
              "    }\n",
              "\n",
              "    .colab-df-convert:hover {\n",
              "      background-color: #E2EBFA;\n",
              "      box-shadow: 0px 1px 2px rgba(60, 64, 67, 0.3), 0px 1px 3px 1px rgba(60, 64, 67, 0.15);\n",
              "      fill: #174EA6;\n",
              "    }\n",
              "\n",
              "    .colab-df-buttons div {\n",
              "      margin-bottom: 4px;\n",
              "    }\n",
              "\n",
              "    [theme=dark] .colab-df-convert {\n",
              "      background-color: #3B4455;\n",
              "      fill: #D2E3FC;\n",
              "    }\n",
              "\n",
              "    [theme=dark] .colab-df-convert:hover {\n",
              "      background-color: #434B5C;\n",
              "      box-shadow: 0px 1px 3px 1px rgba(0, 0, 0, 0.15);\n",
              "      filter: drop-shadow(0px 1px 2px rgba(0, 0, 0, 0.3));\n",
              "      fill: #FFFFFF;\n",
              "    }\n",
              "  </style>\n",
              "\n",
              "    <script>\n",
              "      const buttonEl =\n",
              "        document.querySelector('#df-4e583c61-2f16-4218-a61d-3b63d963f59d button.colab-df-convert');\n",
              "      buttonEl.style.display =\n",
              "        google.colab.kernel.accessAllowed ? 'block' : 'none';\n",
              "\n",
              "      async function convertToInteractive(key) {\n",
              "        const element = document.querySelector('#df-4e583c61-2f16-4218-a61d-3b63d963f59d');\n",
              "        const dataTable =\n",
              "          await google.colab.kernel.invokeFunction('convertToInteractive',\n",
              "                                                    [key], {});\n",
              "        if (!dataTable) return;\n",
              "\n",
              "        const docLinkHtml = 'Like what you see? Visit the ' +\n",
              "          '<a target=\"_blank\" href=https://colab.research.google.com/notebooks/data_table.ipynb>data table notebook</a>'\n",
              "          + ' to learn more about interactive tables.';\n",
              "        element.innerHTML = '';\n",
              "        dataTable['output_type'] = 'display_data';\n",
              "        await google.colab.output.renderOutput(dataTable, element);\n",
              "        const docLink = document.createElement('div');\n",
              "        docLink.innerHTML = docLinkHtml;\n",
              "        element.appendChild(docLink);\n",
              "      }\n",
              "    </script>\n",
              "  </div>\n",
              "\n",
              "\n",
              "<div id=\"df-35f7de3b-159a-48b1-901a-16572cce001a\">\n",
              "  <button class=\"colab-df-quickchart\" onclick=\"quickchart('df-35f7de3b-159a-48b1-901a-16572cce001a')\"\n",
              "            title=\"Suggest charts\"\n",
              "            style=\"display:none;\">\n",
              "\n",
              "<svg xmlns=\"http://www.w3.org/2000/svg\" height=\"24px\"viewBox=\"0 0 24 24\"\n",
              "     width=\"24px\">\n",
              "    <g>\n",
              "        <path d=\"M19 3H5c-1.1 0-2 .9-2 2v14c0 1.1.9 2 2 2h14c1.1 0 2-.9 2-2V5c0-1.1-.9-2-2-2zM9 17H7v-7h2v7zm4 0h-2V7h2v10zm4 0h-2v-4h2v4z\"/>\n",
              "    </g>\n",
              "</svg>\n",
              "  </button>\n",
              "\n",
              "<style>\n",
              "  .colab-df-quickchart {\n",
              "      --bg-color: #E8F0FE;\n",
              "      --fill-color: #1967D2;\n",
              "      --hover-bg-color: #E2EBFA;\n",
              "      --hover-fill-color: #174EA6;\n",
              "      --disabled-fill-color: #AAA;\n",
              "      --disabled-bg-color: #DDD;\n",
              "  }\n",
              "\n",
              "  [theme=dark] .colab-df-quickchart {\n",
              "      --bg-color: #3B4455;\n",
              "      --fill-color: #D2E3FC;\n",
              "      --hover-bg-color: #434B5C;\n",
              "      --hover-fill-color: #FFFFFF;\n",
              "      --disabled-bg-color: #3B4455;\n",
              "      --disabled-fill-color: #666;\n",
              "  }\n",
              "\n",
              "  .colab-df-quickchart {\n",
              "    background-color: var(--bg-color);\n",
              "    border: none;\n",
              "    border-radius: 50%;\n",
              "    cursor: pointer;\n",
              "    display: none;\n",
              "    fill: var(--fill-color);\n",
              "    height: 32px;\n",
              "    padding: 0;\n",
              "    width: 32px;\n",
              "  }\n",
              "\n",
              "  .colab-df-quickchart:hover {\n",
              "    background-color: var(--hover-bg-color);\n",
              "    box-shadow: 0 1px 2px rgba(60, 64, 67, 0.3), 0 1px 3px 1px rgba(60, 64, 67, 0.15);\n",
              "    fill: var(--button-hover-fill-color);\n",
              "  }\n",
              "\n",
              "  .colab-df-quickchart-complete:disabled,\n",
              "  .colab-df-quickchart-complete:disabled:hover {\n",
              "    background-color: var(--disabled-bg-color);\n",
              "    fill: var(--disabled-fill-color);\n",
              "    box-shadow: none;\n",
              "  }\n",
              "\n",
              "  .colab-df-spinner {\n",
              "    border: 2px solid var(--fill-color);\n",
              "    border-color: transparent;\n",
              "    border-bottom-color: var(--fill-color);\n",
              "    animation:\n",
              "      spin 1s steps(1) infinite;\n",
              "  }\n",
              "\n",
              "  @keyframes spin {\n",
              "    0% {\n",
              "      border-color: transparent;\n",
              "      border-bottom-color: var(--fill-color);\n",
              "      border-left-color: var(--fill-color);\n",
              "    }\n",
              "    20% {\n",
              "      border-color: transparent;\n",
              "      border-left-color: var(--fill-color);\n",
              "      border-top-color: var(--fill-color);\n",
              "    }\n",
              "    30% {\n",
              "      border-color: transparent;\n",
              "      border-left-color: var(--fill-color);\n",
              "      border-top-color: var(--fill-color);\n",
              "      border-right-color: var(--fill-color);\n",
              "    }\n",
              "    40% {\n",
              "      border-color: transparent;\n",
              "      border-right-color: var(--fill-color);\n",
              "      border-top-color: var(--fill-color);\n",
              "    }\n",
              "    60% {\n",
              "      border-color: transparent;\n",
              "      border-right-color: var(--fill-color);\n",
              "    }\n",
              "    80% {\n",
              "      border-color: transparent;\n",
              "      border-right-color: var(--fill-color);\n",
              "      border-bottom-color: var(--fill-color);\n",
              "    }\n",
              "    90% {\n",
              "      border-color: transparent;\n",
              "      border-bottom-color: var(--fill-color);\n",
              "    }\n",
              "  }\n",
              "</style>\n",
              "\n",
              "  <script>\n",
              "    async function quickchart(key) {\n",
              "      const quickchartButtonEl =\n",
              "        document.querySelector('#' + key + ' button');\n",
              "      quickchartButtonEl.disabled = true;  // To prevent multiple clicks.\n",
              "      quickchartButtonEl.classList.add('colab-df-spinner');\n",
              "      try {\n",
              "        const charts = await google.colab.kernel.invokeFunction(\n",
              "            'suggestCharts', [key], {});\n",
              "      } catch (error) {\n",
              "        console.error('Error during call to suggestCharts:', error);\n",
              "      }\n",
              "      quickchartButtonEl.classList.remove('colab-df-spinner');\n",
              "      quickchartButtonEl.classList.add('colab-df-quickchart-complete');\n",
              "    }\n",
              "    (() => {\n",
              "      let quickchartButtonEl =\n",
              "        document.querySelector('#df-35f7de3b-159a-48b1-901a-16572cce001a button');\n",
              "      quickchartButtonEl.style.display =\n",
              "        google.colab.kernel.accessAllowed ? 'block' : 'none';\n",
              "    })();\n",
              "  </script>\n",
              "</div>\n",
              "    </div>\n",
              "  </div>\n"
            ]
          },
          "metadata": {},
          "execution_count": 3
        }
      ]
    },
    {
      "cell_type": "code",
      "source": [
        "dataset.info()"
      ],
      "metadata": {
        "colab": {
          "base_uri": "https://localhost:8080/"
        },
        "id": "dVYHmdUjxp_q",
        "outputId": "89cf2fc6-56e5-4172-fdf2-2a5835d97f73"
      },
      "execution_count": null,
      "outputs": [
        {
          "output_type": "stream",
          "name": "stdout",
          "text": [
            "<class 'pandas.core.frame.DataFrame'>\n",
            "RangeIndex: 12174 entries, 0 to 12173\n",
            "Data columns (total 13 columns):\n",
            " #   Column                   Non-Null Count  Dtype  \n",
            "---  ------                   --------------  -----  \n",
            " 0   Accident_Index           12174 non-null  int64  \n",
            " 1   Accident_Area            12173 non-null  object \n",
            " 2   Latitude                 12173 non-null  object \n",
            " 3   Longitude                12173 non-null  float64\n",
            " 4   Accident_Severity        12174 non-null  object \n",
            " 5   Day_of_Week              12174 non-null  object \n",
            " 6   Time                     12174 non-null  object \n",
            " 7   Road_Type                12174 non-null  object \n",
            " 8   Speed_limit              12174 non-null  int64  \n",
            " 9   Light_Conditions         12169 non-null  object \n",
            " 10  Weather_Conditions       12174 non-null  object \n",
            " 11  Road_Surface_Conditions  12170 non-null  object \n",
            " 12  Date                     12174 non-null  object \n",
            "dtypes: float64(1), int64(2), object(10)\n",
            "memory usage: 1.2+ MB\n"
          ]
        }
      ]
    },
    {
      "cell_type": "markdown",
      "source": [
        "# **Data Preprocessing**"
      ],
      "metadata": {
        "id": "RuPkR31y5Blc"
      }
    },
    {
      "cell_type": "code",
      "source": [
        "dataset.isnull().sum()\n",
        "dataset.value_counts()"
      ],
      "metadata": {
        "colab": {
          "base_uri": "https://localhost:8080/"
        },
        "id": "6RfhrmxY1ki_",
        "outputId": "ca66ab27-0770-4643-a337-97b46df64b8e"
      },
      "execution_count": null,
      "outputs": [
        {
          "output_type": "execute_result",
          "data": {
            "text/plain": [
              "Accident_Index  Accident_Area             Latitude            Longitude  Accident_Severity  Day_of_Week  Time   Road_Type       Speed_limit  Light_Conditions      Weather_Conditions  Road_Surface_Conditions  Date      \n",
              "1               Alagar Kovil Road         9.99263             78.177017  Fatalities         Wednesday    17:42  Highways        60           Clear Daylight        Strong Wind         uneven surfaces          04-01-2018    1\n",
              "8119            MG RamaChandran Bridge    9.928187            78.122763  Major Injury       Wednesday    16:25  Highways        35           Clear Daylight        Rainy               wet surfaces             05-04-2018    1\n",
              "8110            Othakadai                 9.894452            78.266837  Major Injury       Thursday     07:16  Highways        40           Clear Daylight        Strong Wind         uneven surfaces          30-03-2018    1\n",
              "8111            Othakoilpatti             9.897157            78.203502  Major Injury       Sunday       02:55  Two-lane Roads  30           Poor Street Lighting  Rainy               wet surfaces             02-04-2018    1\n",
              "8112            Paravai                   9.851157            78.207798  Major Injury       Sunday       11:35  Highways        35           Clear Daylight        Rainy               wet surfaces             26-03-2018    1\n",
              "                                                                                                                                                                                                                             ..\n",
              "4058            Melamadai junction        9.926457147180223,  78.151647  Major Injury       Wednesday    18:22  Highways        30           Poor Street Lighting  Rainy               wet surfaces             08-02-2018    1\n",
              "4059            Fathima College           9.945962            78.099991  Major Injury       Friday       17:04  Highways        35           Poor Street Lighting  Strong Wind         uneven surfaces          10-02-2018    1\n",
              "4060            Merku Maasi Veethi        9.918369            78.115361  Major Injury       Saturday     20:05  Highways        35           Poor Street Lighting  Strong Wind         uneven surfaces          11-02-2018    1\n",
              "4061            District Central Library  9.925735            78.118708  Major Injury       Monday       01:15  Highways        60           Poor Street Lighting  Rainy               wet surfaces             06-02-2018    1\n",
              "12174           Teppakulam                9.911215            78.149643  Minor Injury       Thursday     16:45  Highways        30           Clear Daylight        Rainy               wet surfaces             15-06-2018    1\n",
              "Length: 12164, dtype: int64"
            ]
          },
          "metadata": {},
          "execution_count": 5
        }
      ]
    },
    {
      "cell_type": "code",
      "source": [
        "data=dataset.dropna()\n",
        "data.info()"
      ],
      "metadata": {
        "colab": {
          "base_uri": "https://localhost:8080/"
        },
        "id": "E9AQ3UK411GE",
        "outputId": "687db206-2904-4da8-c6e9-8f58143dfdf6"
      },
      "execution_count": null,
      "outputs": [
        {
          "output_type": "stream",
          "name": "stdout",
          "text": [
            "<class 'pandas.core.frame.DataFrame'>\n",
            "Int64Index: 12164 entries, 0 to 12173\n",
            "Data columns (total 13 columns):\n",
            " #   Column                   Non-Null Count  Dtype  \n",
            "---  ------                   --------------  -----  \n",
            " 0   Accident_Index           12164 non-null  int64  \n",
            " 1   Accident_Area            12164 non-null  object \n",
            " 2   Latitude                 12164 non-null  object \n",
            " 3   Longitude                12164 non-null  float64\n",
            " 4   Accident_Severity        12164 non-null  object \n",
            " 5   Day_of_Week              12164 non-null  object \n",
            " 6   Time                     12164 non-null  object \n",
            " 7   Road_Type                12164 non-null  object \n",
            " 8   Speed_limit              12164 non-null  int64  \n",
            " 9   Light_Conditions         12164 non-null  object \n",
            " 10  Weather_Conditions       12164 non-null  object \n",
            " 11  Road_Surface_Conditions  12164 non-null  object \n",
            " 12  Date                     12164 non-null  object \n",
            "dtypes: float64(1), int64(2), object(10)\n",
            "memory usage: 1.3+ MB\n"
          ]
        }
      ]
    },
    {
      "cell_type": "code",
      "source": [
        "import numpy as np\n",
        "\n",
        "day = {\n",
        "    \"Monday\" :1,\n",
        "    \"Tuesday\" :2,\n",
        "    \"Wednesday\" :3,\n",
        "    \"Thursday\" :4,\n",
        "    \"Friday\" :5,\n",
        "    \"Saturday\" :6,\n",
        "    \"Sunday\" :7\n",
        "}\n",
        "\n",
        "data[\"Day_of_Week\"] = data[\"Day_of_Week\"].map(day)\n",
        "\n",
        "data[\"Day_of_Week\"]"
      ],
      "metadata": {
        "colab": {
          "base_uri": "https://localhost:8080/"
        },
        "id": "ep59AIWkx7Yk",
        "outputId": "62c4199f-2f81-46ca-df6f-aee116c47cb5"
      },
      "execution_count": null,
      "outputs": [
        {
          "output_type": "stream",
          "name": "stderr",
          "text": [
            "<ipython-input-7-680503bad453>:13: SettingWithCopyWarning: \n",
            "A value is trying to be set on a copy of a slice from a DataFrame.\n",
            "Try using .loc[row_indexer,col_indexer] = value instead\n",
            "\n",
            "See the caveats in the documentation: https://pandas.pydata.org/pandas-docs/stable/user_guide/indexing.html#returning-a-view-versus-a-copy\n",
            "  data[\"Day_of_Week\"] = data[\"Day_of_Week\"].map(day)\n"
          ]
        },
        {
          "output_type": "execute_result",
          "data": {
            "text/plain": [
              "0        3\n",
              "1        4\n",
              "2        5\n",
              "3        6\n",
              "5        3\n",
              "        ..\n",
              "12169    3\n",
              "12170    4\n",
              "12171    4\n",
              "12172    4\n",
              "12173    4\n",
              "Name: Day_of_Week, Length: 12164, dtype: int64"
            ]
          },
          "metadata": {},
          "execution_count": 7
        }
      ]
    },
    {
      "cell_type": "code",
      "source": [
        "road_conditions_mapping = {\n",
        "    \"wet surfaces\" :1,\n",
        "    \"uneven surfaces\" :2,\n",
        "    \"Construction Zones\" :3,\n",
        "    \"Slippery Roads\" :4\n",
        "    }\n",
        "\n",
        "data['Road_Surface_Conditions'] = data['Road_Surface_Conditions'].replace(road_conditions_mapping)\n",
        "\n",
        "data['Road_Surface_Conditions']"
      ],
      "metadata": {
        "colab": {
          "base_uri": "https://localhost:8080/"
        },
        "id": "ExxyENHlz1dz",
        "outputId": "09f37de6-ecdd-4dc8-bf38-70c9a087ea6a"
      },
      "execution_count": null,
      "outputs": [
        {
          "output_type": "stream",
          "name": "stderr",
          "text": [
            "<ipython-input-8-3750abe308f8>:8: SettingWithCopyWarning: \n",
            "A value is trying to be set on a copy of a slice from a DataFrame.\n",
            "Try using .loc[row_indexer,col_indexer] = value instead\n",
            "\n",
            "See the caveats in the documentation: https://pandas.pydata.org/pandas-docs/stable/user_guide/indexing.html#returning-a-view-versus-a-copy\n",
            "  data['Road_Surface_Conditions'] = data['Road_Surface_Conditions'].replace(road_conditions_mapping)\n"
          ]
        },
        {
          "output_type": "execute_result",
          "data": {
            "text/plain": [
              "0        2\n",
              "1        1\n",
              "2        1\n",
              "3        1\n",
              "5        2\n",
              "        ..\n",
              "12169    2\n",
              "12170    1\n",
              "12171    2\n",
              "12172    1\n",
              "12173    1\n",
              "Name: Road_Surface_Conditions, Length: 12164, dtype: int64"
            ]
          },
          "metadata": {},
          "execution_count": 8
        }
      ]
    },
    {
      "cell_type": "code",
      "source": [
        "weather_conditions_mapping = {\n",
        "    \"Rainy\" :1,\n",
        "    \"Strong Wind\" :2,\n",
        "    \"Thunderstorm\" :3,\n",
        "    \"Fog\" :4,\n",
        "    \"Clear Sky\": 5\n",
        "}\n",
        "\n",
        "data['Weather_Conditions'] = data['Weather_Conditions'].replace(weather_conditions_mapping)\n",
        "\n",
        "data['Weather_Conditions']"
      ],
      "metadata": {
        "colab": {
          "base_uri": "https://localhost:8080/"
        },
        "id": "ijRV1NYZz_OC",
        "outputId": "06866c14-2ebc-4e2c-e24a-5ed99ec3b087"
      },
      "execution_count": null,
      "outputs": [
        {
          "output_type": "stream",
          "name": "stderr",
          "text": [
            "<ipython-input-9-1bfd8d256d65>:9: SettingWithCopyWarning: \n",
            "A value is trying to be set on a copy of a slice from a DataFrame.\n",
            "Try using .loc[row_indexer,col_indexer] = value instead\n",
            "\n",
            "See the caveats in the documentation: https://pandas.pydata.org/pandas-docs/stable/user_guide/indexing.html#returning-a-view-versus-a-copy\n",
            "  data['Weather_Conditions'] = data['Weather_Conditions'].replace(weather_conditions_mapping)\n"
          ]
        },
        {
          "output_type": "execute_result",
          "data": {
            "text/plain": [
              "0        2\n",
              "1        1\n",
              "2        1\n",
              "3        1\n",
              "5        2\n",
              "        ..\n",
              "12169    2\n",
              "12170    1\n",
              "12171    2\n",
              "12172    1\n",
              "12173    1\n",
              "Name: Weather_Conditions, Length: 12164, dtype: int64"
            ]
          },
          "metadata": {},
          "execution_count": 9
        }
      ]
    },
    {
      "cell_type": "code",
      "source": [
        "Road_Type_mapping = {\n",
        "    \"Highways\" :1,\n",
        "    \"Potholed Roads\" :2,\n",
        "    \"Ridge Pits\" :3,\n",
        "    \"Two-lane Roads\" :4\n",
        "}\n",
        "\n",
        "data['Road_Type'] = data['Road_Type'].replace(Road_Type_mapping)\n",
        "\n",
        "data['Road_Type']"
      ],
      "metadata": {
        "colab": {
          "base_uri": "https://localhost:8080/"
        },
        "id": "0KXZZewS4H6k",
        "outputId": "361cc2cc-27df-4a44-b7bb-34f1db815cfc"
      },
      "execution_count": null,
      "outputs": [
        {
          "output_type": "stream",
          "name": "stderr",
          "text": [
            "<ipython-input-10-04b69600c394>:8: SettingWithCopyWarning: \n",
            "A value is trying to be set on a copy of a slice from a DataFrame.\n",
            "Try using .loc[row_indexer,col_indexer] = value instead\n",
            "\n",
            "See the caveats in the documentation: https://pandas.pydata.org/pandas-docs/stable/user_guide/indexing.html#returning-a-view-versus-a-copy\n",
            "  data['Road_Type'] = data['Road_Type'].replace(Road_Type_mapping)\n"
          ]
        },
        {
          "output_type": "execute_result",
          "data": {
            "text/plain": [
              "0        1\n",
              "1        2\n",
              "2        1\n",
              "3        1\n",
              "5        1\n",
              "        ..\n",
              "12169    1\n",
              "12170    2\n",
              "12171    1\n",
              "12172    1\n",
              "12173    1\n",
              "Name: Road_Type, Length: 12164, dtype: int64"
            ]
          },
          "metadata": {},
          "execution_count": 10
        }
      ]
    },
    {
      "cell_type": "code",
      "source": [
        "Light_Conditions_mapping = {\n",
        "    \"Poor Street Lighting\" :1,\n",
        "    \"Clear Daylight\" :2\n",
        "}\n",
        "\n",
        "data['Light_Conditions'] = data['Light_Conditions'].replace(Light_Conditions_mapping)\n",
        "\n",
        "data['Light_Conditions']"
      ],
      "metadata": {
        "colab": {
          "base_uri": "https://localhost:8080/"
        },
        "id": "I4IGHWAZ8bA3",
        "outputId": "8091bad9-c88d-4aaf-e051-1c46b7b1204b"
      },
      "execution_count": null,
      "outputs": [
        {
          "output_type": "stream",
          "name": "stderr",
          "text": [
            "<ipython-input-11-c2ec9ebf6991>:6: SettingWithCopyWarning: \n",
            "A value is trying to be set on a copy of a slice from a DataFrame.\n",
            "Try using .loc[row_indexer,col_indexer] = value instead\n",
            "\n",
            "See the caveats in the documentation: https://pandas.pydata.org/pandas-docs/stable/user_guide/indexing.html#returning-a-view-versus-a-copy\n",
            "  data['Light_Conditions'] = data['Light_Conditions'].replace(Light_Conditions_mapping)\n"
          ]
        },
        {
          "output_type": "execute_result",
          "data": {
            "text/plain": [
              "0        2\n",
              "1        1\n",
              "2        1\n",
              "3        2\n",
              "5        2\n",
              "        ..\n",
              "12169    1\n",
              "12170    2\n",
              "12171    2\n",
              "12172    2\n",
              "12173    2\n",
              "Name: Light_Conditions, Length: 12164, dtype: int64"
            ]
          },
          "metadata": {},
          "execution_count": 11
        }
      ]
    },
    {
      "cell_type": "code",
      "source": [
        "Accident_Severity_mapping = {\n",
        "    \"Fatalities\" :1,\n",
        "     \"Major Injury\" :2,\n",
        "     \"Minor Injury\" :3\n",
        "}\n",
        "\n",
        "data['Accident_Severity'] = data['Accident_Severity'].replace(Accident_Severity_mapping)\n",
        "\n",
        "data['Accident_Severity']"
      ],
      "metadata": {
        "colab": {
          "base_uri": "https://localhost:8080/"
        },
        "id": "yR1KFQm08h9i",
        "outputId": "4a482de8-df52-450d-9e32-9cfba2ff2b68"
      },
      "execution_count": null,
      "outputs": [
        {
          "output_type": "stream",
          "name": "stderr",
          "text": [
            "<ipython-input-12-3de78afd918a>:7: SettingWithCopyWarning: \n",
            "A value is trying to be set on a copy of a slice from a DataFrame.\n",
            "Try using .loc[row_indexer,col_indexer] = value instead\n",
            "\n",
            "See the caveats in the documentation: https://pandas.pydata.org/pandas-docs/stable/user_guide/indexing.html#returning-a-view-versus-a-copy\n",
            "  data['Accident_Severity'] = data['Accident_Severity'].replace(Accident_Severity_mapping)\n"
          ]
        },
        {
          "output_type": "execute_result",
          "data": {
            "text/plain": [
              "0        1\n",
              "1        2\n",
              "2        2\n",
              "3        2\n",
              "5        2\n",
              "        ..\n",
              "12169    3\n",
              "12170    3\n",
              "12171    3\n",
              "12172    3\n",
              "12173    3\n",
              "Name: Accident_Severity, Length: 12164, dtype: int64"
            ]
          },
          "metadata": {},
          "execution_count": 12
        }
      ]
    },
    {
      "cell_type": "code",
      "source": [
        "# Remove trailing comma from latitude column\n",
        "data['Latitude'] = data['Latitude'].str.rstrip(',')"
      ],
      "metadata": {
        "colab": {
          "base_uri": "https://localhost:8080/"
        },
        "id": "mmVKo1Bp8BcM",
        "outputId": "240dc88a-89e6-4b3c-a974-d1f6d78ac7d3"
      },
      "execution_count": null,
      "outputs": [
        {
          "output_type": "stream",
          "name": "stderr",
          "text": [
            "<ipython-input-13-80a8bd29fee8>:2: SettingWithCopyWarning: \n",
            "A value is trying to be set on a copy of a slice from a DataFrame.\n",
            "Try using .loc[row_indexer,col_indexer] = value instead\n",
            "\n",
            "See the caveats in the documentation: https://pandas.pydata.org/pandas-docs/stable/user_guide/indexing.html#returning-a-view-versus-a-copy\n",
            "  data['Latitude'] = data['Latitude'].str.rstrip(',')\n"
          ]
        }
      ]
    },
    {
      "cell_type": "code",
      "source": [
        "# Convert latitude column to numeric\n",
        "data['Latitude'] = pd.to_numeric(data['Latitude'])"
      ],
      "metadata": {
        "colab": {
          "base_uri": "https://localhost:8080/"
        },
        "id": "7zft36rR8Kgl",
        "outputId": "bcebe143-947d-4051-99bb-942b1dc230db"
      },
      "execution_count": null,
      "outputs": [
        {
          "output_type": "stream",
          "name": "stderr",
          "text": [
            "<ipython-input-14-ffac007257c0>:2: SettingWithCopyWarning: \n",
            "A value is trying to be set on a copy of a slice from a DataFrame.\n",
            "Try using .loc[row_indexer,col_indexer] = value instead\n",
            "\n",
            "See the caveats in the documentation: https://pandas.pydata.org/pandas-docs/stable/user_guide/indexing.html#returning-a-view-versus-a-copy\n",
            "  data['Latitude'] = pd.to_numeric(data['Latitude'])\n"
          ]
        }
      ]
    },
    {
      "cell_type": "code",
      "source": [
        "from datetime import datetime\n",
        "\n",
        "# Extract hour from the \"time\" column and add it to a new column\n",
        "data[\"Hour\"] = data[\"Time\"].apply(lambda x: datetime.strptime(x, \"%H:%M\").hour)\n",
        "\n",
        "# Categorize hours into parts of the day\n",
        "def categorize_hour(hour):\n",
        "    if 6 <= hour < 12:\n",
        "        return 1 #\"Morning\"\n",
        "    elif 12 <= hour < 16:\n",
        "        return 2 #\"Noon\"\n",
        "    elif 16 <= hour < 19:\n",
        "        return 3 #\"Evening\"\n",
        "    else:\n",
        "        return 4 #\"Night\"\n",
        "\n",
        "# Add a new column for part of the day\n",
        "data[\"Part_of_Day\"] = data[\"Hour\"].apply(categorize_hour)\n",
        "\n",
        "data[\"Part_of_Day\"]"
      ],
      "metadata": {
        "colab": {
          "base_uri": "https://localhost:8080/"
        },
        "id": "vIBV0q7NGgc9",
        "outputId": "ea95e4fb-4238-42ff-facb-ccf727c05878"
      },
      "execution_count": null,
      "outputs": [
        {
          "output_type": "stream",
          "name": "stderr",
          "text": [
            "<ipython-input-15-03ed229613dd>:4: SettingWithCopyWarning: \n",
            "A value is trying to be set on a copy of a slice from a DataFrame.\n",
            "Try using .loc[row_indexer,col_indexer] = value instead\n",
            "\n",
            "See the caveats in the documentation: https://pandas.pydata.org/pandas-docs/stable/user_guide/indexing.html#returning-a-view-versus-a-copy\n",
            "  data[\"Hour\"] = data[\"Time\"].apply(lambda x: datetime.strptime(x, \"%H:%M\").hour)\n",
            "<ipython-input-15-03ed229613dd>:18: SettingWithCopyWarning: \n",
            "A value is trying to be set on a copy of a slice from a DataFrame.\n",
            "Try using .loc[row_indexer,col_indexer] = value instead\n",
            "\n",
            "See the caveats in the documentation: https://pandas.pydata.org/pandas-docs/stable/user_guide/indexing.html#returning-a-view-versus-a-copy\n",
            "  data[\"Part_of_Day\"] = data[\"Hour\"].apply(categorize_hour)\n"
          ]
        },
        {
          "output_type": "execute_result",
          "data": {
            "text/plain": [
              "0        3\n",
              "1        3\n",
              "2        4\n",
              "3        1\n",
              "5        2\n",
              "        ..\n",
              "12169    4\n",
              "12170    3\n",
              "12171    3\n",
              "12172    3\n",
              "12173    3\n",
              "Name: Part_of_Day, Length: 12164, dtype: int64"
            ]
          },
          "metadata": {},
          "execution_count": 15
        }
      ]
    },
    {
      "cell_type": "code",
      "source": [
        "data.to_csv('AccidentDataset.csv', index=False)"
      ],
      "metadata": {
        "id": "UltvPfVbjBgC"
      },
      "execution_count": null,
      "outputs": []
    },
    {
      "cell_type": "code",
      "source": [
        "data.info()"
      ],
      "metadata": {
        "colab": {
          "base_uri": "https://localhost:8080/"
        },
        "id": "_CxMpm8G4Ui_",
        "outputId": "480869fc-f0b7-4437-82e1-8adf0fa6f7ad"
      },
      "execution_count": null,
      "outputs": [
        {
          "output_type": "stream",
          "name": "stdout",
          "text": [
            "<class 'pandas.core.frame.DataFrame'>\n",
            "Int64Index: 12164 entries, 0 to 12173\n",
            "Data columns (total 15 columns):\n",
            " #   Column                   Non-Null Count  Dtype  \n",
            "---  ------                   --------------  -----  \n",
            " 0   Accident_Index           12164 non-null  int64  \n",
            " 1   Accident_Area            12164 non-null  object \n",
            " 2   Latitude                 12164 non-null  float64\n",
            " 3   Longitude                12164 non-null  float64\n",
            " 4   Accident_Severity        12164 non-null  int64  \n",
            " 5   Day_of_Week              12164 non-null  int64  \n",
            " 6   Time                     12164 non-null  object \n",
            " 7   Road_Type                12164 non-null  int64  \n",
            " 8   Speed_limit              12164 non-null  int64  \n",
            " 9   Light_Conditions         12164 non-null  int64  \n",
            " 10  Weather_Conditions       12164 non-null  int64  \n",
            " 11  Road_Surface_Conditions  12164 non-null  int64  \n",
            " 12  Date                     12164 non-null  object \n",
            " 13  Hour                     12164 non-null  int64  \n",
            " 14  Part_of_Day              12164 non-null  int64  \n",
            "dtypes: float64(2), int64(10), object(3)\n",
            "memory usage: 1.5+ MB\n"
          ]
        }
      ]
    },
    {
      "cell_type": "markdown",
      "source": [
        "# **Data Exploration**"
      ],
      "metadata": {
        "id": "MQ62cQeDktNQ"
      }
    },
    {
      "cell_type": "markdown",
      "source": [
        "Data Visualization"
      ],
      "metadata": {
        "id": "Xh7hUejSk1W5"
      }
    },
    {
      "cell_type": "code",
      "source": [
        "import matplotlib.pyplot as plt\n",
        "import seaborn as sns\n",
        "\n",
        "# Histogram for numerical variable (for example, 'Speed_limit')\n",
        "plt.hist(data['Speed_limit'], bins=20)\n",
        "plt.xlabel('Speed Limit')\n",
        "plt.ylabel('Frequency')\n",
        "plt.show()"
      ],
      "metadata": {
        "colab": {
          "base_uri": "https://localhost:8080/",
          "height": 449
        },
        "id": "_OS_xbiNk420",
        "outputId": "933e5a03-4c4c-4046-ae28-a95eef3ae0b1"
      },
      "execution_count": null,
      "outputs": [
        {
          "output_type": "display_data",
          "data": {
            "text/plain": [
              "<Figure size 640x480 with 1 Axes>"
            ],
            "image/png": "[encoded data removed]"
          },
          "metadata": {}
        }
      ]
    },
    {
      "cell_type": "code",
      "source": [
        "# Bar plot for categorical variable (for example, 'Road_Type')\n",
        "sns.countplot(x='Road_Type', data=data)\n",
        "plt.xlabel('Road Type')\n",
        "plt.ylabel('Count')\n",
        "plt.xticks(rotation=45)\n",
        "plt.show()\n"
      ],
      "metadata": {
        "colab": {
          "base_uri": "https://localhost:8080/",
          "height": 461
        },
        "id": "SA5REFallMz8",
        "outputId": "44063b1e-0f4d-4349-f135-7b78db9cbd9d"
      },
      "execution_count": null,
      "outputs": [
        {
          "output_type": "display_data",
          "data": {
            "text/plain": [
              "<Figure size 640x480 with 1 Axes>"
            ],
            "image/png": "[encoded data removed]"
          },
          "metadata": {}
        }
      ]
    },
    {
      "cell_type": "code",
      "source": [
        "# Assuming 'Date' is your timestamp column\n",
        "data['Date'] = pd.to_datetime(data['Date'])\n",
        "data.set_index('Date', inplace=True)\n",
        "data.resample('M').size().plot()\n",
        "plt.xlabel('Month')\n",
        "plt.ylabel('Number of Accidents')\n",
        "plt.title('Accident Trend Over Time')\n",
        "plt.show()\n"
      ],
      "metadata": {
        "colab": {
          "base_uri": "https://localhost:8080/",
          "height": 627
        },
        "id": "PltcKJ96lg5E",
        "outputId": "db35da7c-3b57-4e78-b128-06c55c5421b6"
      },
      "execution_count": null,
      "outputs": [
        {
          "output_type": "stream",
          "name": "stderr",
          "text": [
            "<ipython-input-70-039d55ffd5b2>:2: UserWarning: Parsing dates in DD/MM/YYYY format when dayfirst=False (the default) was specified. This may lead to inconsistently parsed dates! Specify a format to ensure consistent parsing.\n",
            "  data['Date'] = pd.to_datetime(data['Date'])\n",
            "<ipython-input-70-039d55ffd5b2>:2: SettingWithCopyWarning: \n",
            "A value is trying to be set on a copy of a slice from a DataFrame.\n",
            "Try using .loc[row_indexer,col_indexer] = value instead\n",
            "\n",
            "See the caveats in the documentation: https://pandas.pydata.org/pandas-docs/stable/user_guide/indexing.html#returning-a-view-versus-a-copy\n",
            "  data['Date'] = pd.to_datetime(data['Date'])\n"
          ]
        },
        {
          "output_type": "display_data",
          "data": {
            "text/plain": [
              "<Figure size 640x480 with 1 Axes>"
            ],
            "image/png": "[encoded data removed]"
          },
          "metadata": {}
        }
      ]
    },
    {
      "cell_type": "code",
      "source": [
        "sns.pairplot(data, diag_kind='kde', hue='Accident_Severity')\n",
        "plt.show()\n"
      ],
      "metadata": {
        "colab": {
          "base_uri": "https://localhost:8080/",
          "height": 1000
        },
        "id": "pW4A6sNplw6d",
        "outputId": "062dce73-9902-4b46-d6cc-789804491ac6"
      },
      "execution_count": null,
      "outputs": [
        {
          "output_type": "display_data",
          "data": {
            "text/plain": [
              "<Figure size 1385.49x1250 with 30 Axes>"
            ],
            "image/png": "[encoded data removed]"
          },
          "metadata": {}
        }
      ]
    },
    {
      "cell_type": "code",
      "source": [
        "# Count plot for 'Day_of_Week'\n",
        "sns.countplot(x='Day_of_Week', data=data)\n",
        "plt.xlabel('Day of Week')\n",
        "plt.ylabel('Count')\n",
        "plt.show()\n"
      ],
      "metadata": {
        "colab": {
          "base_uri": "https://localhost:8080/",
          "height": 449
        },
        "id": "xK2G8olMl81j",
        "outputId": "36288944-e032-42f0-c4f6-0bb6a30151a8"
      },
      "execution_count": null,
      "outputs": [
        {
          "output_type": "display_data",
          "data": {
            "text/plain": [
              "<Figure size 640x480 with 1 Axes>"
            ],
            "image/png": "[encoded data removed]"
          },
          "metadata": {}
        }
      ]
    },
    {
      "cell_type": "code",
      "source": [
        "# Count plot for 'Light_Conditions' based on 'Accident_Severity'\n",
        "sns.countplot(x='Light_Conditions', hue='Accident_Severity', data=data)\n",
        "plt.xlabel('Light Conditions')\n",
        "plt.ylabel('Count')\n",
        "plt.show()\n"
      ],
      "metadata": {
        "colab": {
          "base_uri": "https://localhost:8080/",
          "height": 449
        },
        "id": "5NPNP2itmKPM",
        "outputId": "93271d80-a007-4543-b27b-0136e4969947"
      },
      "execution_count": null,
      "outputs": [
        {
          "output_type": "display_data",
          "data": {
            "text/plain": [
              "<Figure size 640x480 with 1 Axes>"
            ],
            "image/png": "[encoded data removed]"
          },
          "metadata": {}
        }
      ]
    },
    {
      "cell_type": "code",
      "source": [
        "# Pie chart for 'Road_Type'\n",
        "road_type_counts = data['Road_Type'].value_counts()\n",
        "plt.pie(road_type_counts, labels=road_type_counts.index, autopct='%1.1f%%')\n",
        "plt.title('Road Type Distribution')\n",
        "plt.show()\n"
      ],
      "metadata": {
        "colab": {
          "base_uri": "https://localhost:8080/",
          "height": 428
        },
        "id": "bmzAk1_Sm3y7",
        "outputId": "3df91d58-3716-4f08-ab1f-f5a6d6bca294"
      },
      "execution_count": null,
      "outputs": [
        {
          "output_type": "display_data",
          "data": {
            "text/plain": [
              "<Figure size 640x480 with 1 Axes>"
            ],
            "image/png": "[encoded data removed]"
          },
          "metadata": {}
        }
      ]
    },
    {
      "cell_type": "code",
      "source": [
        "import seaborn as sns\n",
        "import matplotlib.pyplot as plt\n",
        "\n",
        "# Example: Stacked bar chart for 'Accident_Severity' based on 'Road_Type' categories\n",
        "plt.figure(figsize=(10, 6))\n",
        "\n",
        "# Group the data by 'Road_Type' and 'Accident_Severity' and count occurrences\n",
        "grouped_data = data.groupby(['Road_Type', 'Accident_Severity']).size().reset_index(name='Count')\n",
        "\n",
        "# Create a stacked bar chart\n",
        "sns.barplot(x='Road_Type', y='Count', hue='Accident_Severity', data=grouped_data, palette='coolwarm')\n",
        "\n",
        "plt.xlabel('Road Type')\n",
        "plt.ylabel('Count')\n",
        "plt.title('Accident Severity by Road Type')\n",
        "plt.legend(title='Accident Severity')\n",
        "plt.xticks(rotation=45)\n",
        "plt.show()\n"
      ],
      "metadata": {
        "colab": {
          "base_uri": "https://localhost:8080/",
          "height": 576
        },
        "id": "56Gy81-8n0gq",
        "outputId": "850e9823-9593-42ab-d363-39a81a4624bc"
      },
      "execution_count": null,
      "outputs": [
        {
          "output_type": "display_data",
          "data": {
            "text/plain": [
              "<Figure size 1000x600 with 1 Axes>"
            ],
            "image/png": "[encoded data removed]"
          },
          "metadata": {}
        }
      ]
    },
    {
      "cell_type": "code",
      "source": [
        "import seaborn as sns\n",
        "import matplotlib.pyplot as plt\n",
        "\n",
        "# Example: Stacked bar chart for 'Weather_Conditions' based on 'Road_Surface_Conditions' categories\n",
        "plt.figure(figsize=(10, 6))\n",
        "\n",
        "# Group the data by 'Road_Surface_Conditions' and 'Weather_Conditions' and count occurrences\n",
        "grouped_data = data.groupby(['Road_Surface_Conditions', 'Weather_Conditions']).size().reset_index(name='Count')\n",
        "\n",
        "# Create a stacked bar chart\n",
        "sns.barplot(x='Road_Surface_Conditions', y='Count', hue='Weather_Conditions', data=grouped_data, palette='coolwarm')\n",
        "\n",
        "plt.xlabel('Road Surface Conditions')\n",
        "plt.ylabel('Count')\n",
        "plt.title('Weather Conditions by Road Surface Conditions')\n",
        "plt.legend(title='Weather Conditions')\n",
        "plt.xticks(rotation=45)\n",
        "plt.show()\n"
      ],
      "metadata": {
        "colab": {
          "base_uri": "https://localhost:8080/",
          "height": 641
        },
        "id": "Tdtaq7_woACD",
        "outputId": "7440036d-42c4-4988-830f-4e6dcb5fd97a"
      },
      "execution_count": null,
      "outputs": [
        {
          "output_type": "display_data",
          "data": {
            "text/plain": [
              "<Figure size 1000x600 with 1 Axes>"
            ],
            "image/png": "[encoded data removed]"
          },
          "metadata": {}
        }
      ]
    },
    {
      "cell_type": "markdown",
      "source": [
        "# **Feature Selection**"
      ],
      "metadata": {
        "id": "V4B1a42_b5jR"
      }
    },
    {
      "cell_type": "markdown",
      "source": [
        "HeatMap"
      ],
      "metadata": {
        "id": "q_8P8ahsjs2g"
      }
    },
    {
      "cell_type": "code",
      "source": [
        "features = ['Latitude', 'Longitude', 'Day_of_Week', 'Road_Type', 'Speed_limit', 'Light_Conditions', 'Weather_Conditions', 'Road_Surface_Conditions','Part_of_Day']\n",
        "\n",
        "correlation_matrix = data[features].corr()\n",
        "\n",
        "correlation_matrix"
      ],
      "metadata": {
        "colab": {
          "base_uri": "https://localhost:8080/",
          "height": 332
        },
        "id": "kB8HOBKdjtN6",
        "outputId": "18c36526-db98-408a-e341-f8a84e17e549"
      },
      "execution_count": null,
      "outputs": [
        {
          "output_type": "execute_result",
          "data": {
            "text/plain": [
              "                         Latitude  Longitude  Day_of_Week  Road_Type  \\\n",
              "Latitude                 1.000000  -0.285582    -0.019082  -0.008784   \n",
              "Longitude               -0.285582   1.000000     0.003721   0.008702   \n",
              "Day_of_Week             -0.019082   0.003721     1.000000  -0.010756   \n",
              "Road_Type               -0.008784   0.008702    -0.010756   1.000000   \n",
              "Speed_limit             -0.022219   0.013016    -0.000397  -0.017396   \n",
              "Light_Conditions         0.006341   0.009334    -0.016562  -0.027657   \n",
              "Weather_Conditions       0.005941   0.006191     0.013822   0.015059   \n",
              "Road_Surface_Conditions -0.008590   0.007758     0.012324   0.008803   \n",
              "Part_of_Day             -0.012655  -0.001838     0.018793   0.011642   \n",
              "\n",
              "                         Speed_limit  Light_Conditions  Weather_Conditions  \\\n",
              "Latitude                   -0.022219          0.006341            0.005941   \n",
              "Longitude                   0.013016          0.009334            0.006191   \n",
              "Day_of_Week                -0.000397         -0.016562            0.013822   \n",
              "Road_Type                  -0.017396         -0.027657            0.015059   \n",
              "Speed_limit                 1.000000         -0.006525           -0.005843   \n",
              "Light_Conditions           -0.006525          1.000000           -0.098670   \n",
              "Weather_Conditions         -0.005843         -0.098670            1.000000   \n",
              "Road_Surface_Conditions    -0.010060         -0.151939            0.575093   \n",
              "Part_of_Day                 0.007279         -0.670232            0.012275   \n",
              "\n",
              "                         Road_Surface_Conditions  Part_of_Day  \n",
              "Latitude                               -0.008590    -0.012655  \n",
              "Longitude                               0.007758    -0.001838  \n",
              "Day_of_Week                             0.012324     0.018793  \n",
              "Road_Type                               0.008803     0.011642  \n",
              "Speed_limit                            -0.010060     0.007279  \n",
              "Light_Conditions                       -0.151939    -0.670232  \n",
              "Weather_Conditions                      0.575093     0.012275  \n",
              "Road_Surface_Conditions                 1.000000     0.034181  \n",
              "Part_of_Day                             0.034181     1.000000  "
            ],
            "text/html": [
              "\n",
              "  <div id=\"df-871a8ec4-813e-40b0-bb0e-e331ecfa2b43\" class=\"colab-df-container\">\n",
              "    <div>\n",
              "<style scoped>\n",
              "    .dataframe tbody tr th:only-of-type {\n",
              "        vertical-align: middle;\n",
              "    }\n",
              "\n",
              "    .dataframe tbody tr th {\n",
              "        vertical-align: top;\n",
              "    }\n",
              "\n",
              "    .dataframe thead th {\n",
              "        text-align: right;\n",
              "    }\n",
              "</style>\n",
              "<table border=\"1\" class=\"dataframe\">\n",
              "  <thead>\n",
              "    <tr style=\"text-align: right;\">\n",
              "      <th></th>\n",
              "      <th>Latitude</th>\n",
              "      <th>Longitude</th>\n",
              "      <th>Day_of_Week</th>\n",
              "      <th>Road_Type</th>\n",
              "      <th>Speed_limit</th>\n",
              "      <th>Light_Conditions</th>\n",
              "      <th>Weather_Conditions</th>\n",
              "      <th>Road_Surface_Conditions</th>\n",
              "      <th>Part_of_Day</th>\n",
              "    </tr>\n",
              "  </thead>\n",
              "  <tbody>\n",
              "    <tr>\n",
              "      <th>Latitude</th>\n",
              "      <td>1.000000</td>\n",
              "      <td>-0.285582</td>\n",
              "      <td>-0.019082</td>\n",
              "      <td>-0.008784</td>\n",
              "      <td>-0.022219</td>\n",
              "      <td>0.006341</td>\n",
              "      <td>0.005941</td>\n",
              "      <td>-0.008590</td>\n",
              "      <td>-0.012655</td>\n",
              "    </tr>\n",
              "    <tr>\n",
              "      <th>Longitude</th>\n",
              "      <td>-0.285582</td>\n",
              "      <td>1.000000</td>\n",
              "      <td>0.003721</td>\n",
              "      <td>0.008702</td>\n",
              "      <td>0.013016</td>\n",
              "      <td>0.009334</td>\n",
              "      <td>0.006191</td>\n",
              "      <td>0.007758</td>\n",
              "      <td>-0.001838</td>\n",
              "    </tr>\n",
              "    <tr>\n",
              "      <th>Day_of_Week</th>\n",
              "      <td>-0.019082</td>\n",
              "      <td>0.003721</td>\n",
              "      <td>1.000000</td>\n",
              "      <td>-0.010756</td>\n",
              "      <td>-0.000397</td>\n",
              "      <td>-0.016562</td>\n",
              "      <td>0.013822</td>\n",
              "      <td>0.012324</td>\n",
              "      <td>0.018793</td>\n",
              "    </tr>\n",
              "    <tr>\n",
              "      <th>Road_Type</th>\n",
              "      <td>-0.008784</td>\n",
              "      <td>0.008702</td>\n",
              "      <td>-0.010756</td>\n",
              "      <td>1.000000</td>\n",
              "      <td>-0.017396</td>\n",
              "      <td>-0.027657</td>\n",
              "      <td>0.015059</td>\n",
              "      <td>0.008803</td>\n",
              "      <td>0.011642</td>\n",
              "    </tr>\n",
              "    <tr>\n",
              "      <th>Speed_limit</th>\n",
              "      <td>-0.022219</td>\n",
              "      <td>0.013016</td>\n",
              "      <td>-0.000397</td>\n",
              "      <td>-0.017396</td>\n",
              "      <td>1.000000</td>\n",
              "      <td>-0.006525</td>\n",
              "      <td>-0.005843</td>\n",
              "      <td>-0.010060</td>\n",
              "      <td>0.007279</td>\n",
              "    </tr>\n",
              "    <tr>\n",
              "      <th>Light_Conditions</th>\n",
              "      <td>0.006341</td>\n",
              "      <td>0.009334</td>\n",
              "      <td>-0.016562</td>\n",
              "      <td>-0.027657</td>\n",
              "      <td>-0.006525</td>\n",
              "      <td>1.000000</td>\n",
              "      <td>-0.098670</td>\n",
              "      <td>-0.151939</td>\n",
              "      <td>-0.670232</td>\n",
              "    </tr>\n",
              "    <tr>\n",
              "      <th>Weather_Conditions</th>\n",
              "      <td>0.005941</td>\n",
              "      <td>0.006191</td>\n",
              "      <td>0.013822</td>\n",
              "      <td>0.015059</td>\n",
              "      <td>-0.005843</td>\n",
              "      <td>-0.098670</td>\n",
              "      <td>1.000000</td>\n",
              "      <td>0.575093</td>\n",
              "      <td>0.012275</td>\n",
              "    </tr>\n",
              "    <tr>\n",
              "      <th>Road_Surface_Conditions</th>\n",
              "      <td>-0.008590</td>\n",
              "      <td>0.007758</td>\n",
              "      <td>0.012324</td>\n",
              "      <td>0.008803</td>\n",
              "      <td>-0.010060</td>\n",
              "      <td>-0.151939</td>\n",
              "      <td>0.575093</td>\n",
              "      <td>1.000000</td>\n",
              "      <td>0.034181</td>\n",
              "    </tr>\n",
              "    <tr>\n",
              "      <th>Part_of_Day</th>\n",
              "      <td>-0.012655</td>\n",
              "      <td>-0.001838</td>\n",
              "      <td>0.018793</td>\n",
              "      <td>0.011642</td>\n",
              "      <td>0.007279</td>\n",
              "      <td>-0.670232</td>\n",
              "      <td>0.012275</td>\n",
              "      <td>0.034181</td>\n",
              "      <td>1.000000</td>\n",
              "    </tr>\n",
              "  </tbody>\n",
              "</table>\n",
              "</div>\n",
              "    <div class=\"colab-df-buttons\">\n",
              "\n",
              "  <div class=\"colab-df-container\">\n",
              "    <button class=\"colab-df-convert\" onclick=\"convertToInteractive('df-871a8ec4-813e-40b0-bb0e-e331ecfa2b43')\"\n",
              "            title=\"Convert this dataframe to an interactive table.\"\n",
              "            style=\"display:none;\">\n",
              "\n",
              "  <svg xmlns=\"http://www.w3.org/2000/svg\" height=\"24px\" viewBox=\"0 -960 960 960\">\n",
              "    <path d=\"M120-120v-720h720v720H120Zm60-500h600v-160H180v160Zm220 220h160v-160H400v160Zm0 220h160v-160H400v160ZM180-400h160v-160H180v160Zm440 0h160v-160H620v160ZM180-180h160v-160H180v160Zm440 0h160v-160H620v160Z\"/>\n",
              "  </svg>\n",
              "    </button>\n",
              "\n",
              "  <style>\n",
              "    .colab-df-container {\n",
              "      display:flex;\n",
              "      gap: 12px;\n",
              "    }\n",
              "\n",
              "    .colab-df-convert {\n",
              "      background-color: #E8F0FE;\n",
              "      border: none;\n",
              "      border-radius: 50%;\n",
              "      cursor: pointer;\n",
              "      display: none;\n",
              "      fill: #1967D2;\n",
              "      height: 32px;\n",
              "      padding: 0 0 0 0;\n",
              "      width: 32px;\n",
              "    }\n",
              "\n",
              "    .colab-df-convert:hover {\n",
              "      background-color: #E2EBFA;\n",
              "      box-shadow: 0px 1px 2px rgba(60, 64, 67, 0.3), 0px 1px 3px 1px rgba(60, 64, 67, 0.15);\n",
              "      fill: #174EA6;\n",
              "    }\n",
              "\n",
              "    .colab-df-buttons div {\n",
              "      margin-bottom: 4px;\n",
              "    }\n",
              "\n",
              "    [theme=dark] .colab-df-convert {\n",
              "      background-color: #3B4455;\n",
              "      fill: #D2E3FC;\n",
              "    }\n",
              "\n",
              "    [theme=dark] .colab-df-convert:hover {\n",
              "      background-color: #434B5C;\n",
              "      box-shadow: 0px 1px 3px 1px rgba(0, 0, 0, 0.15);\n",
              "      filter: drop-shadow(0px 1px 2px rgba(0, 0, 0, 0.3));\n",
              "      fill: #FFFFFF;\n",
              "    }\n",
              "  </style>\n",
              "\n",
              "    <script>\n",
              "      const buttonEl =\n",
              "        document.querySelector('#df-871a8ec4-813e-40b0-bb0e-e331ecfa2b43 button.colab-df-convert');\n",
              "      buttonEl.style.display =\n",
              "        google.colab.kernel.accessAllowed ? 'block' : 'none';\n",
              "\n",
              "      async function convertToInteractive(key) {\n",
              "        const element = document.querySelector('#df-871a8ec4-813e-40b0-bb0e-e331ecfa2b43');\n",
              "        const dataTable =\n",
              "          await google.colab.kernel.invokeFunction('convertToInteractive',\n",
              "                                                    [key], {});\n",
              "        if (!dataTable) return;\n",
              "\n",
              "        const docLinkHtml = 'Like what you see? Visit the ' +\n",
              "          '<a target=\"_blank\" href=https://colab.research.google.com/notebooks/data_table.ipynb>data table notebook</a>'\n",
              "          + ' to learn more about interactive tables.';\n",
              "        element.innerHTML = '';\n",
              "        dataTable['output_type'] = 'display_data';\n",
              "        await google.colab.output.renderOutput(dataTable, element);\n",
              "        const docLink = document.createElement('div');\n",
              "        docLink.innerHTML = docLinkHtml;\n",
              "        element.appendChild(docLink);\n",
              "      }\n",
              "    </script>\n",
              "  </div>\n",
              "\n",
              "\n",
              "<div id=\"df-2739c634-9a9c-4d09-8b94-9e0e50d0a15f\">\n",
              "  <button class=\"colab-df-quickchart\" onclick=\"quickchart('df-2739c634-9a9c-4d09-8b94-9e0e50d0a15f')\"\n",
              "            title=\"Suggest charts\"\n",
              "            style=\"display:none;\">\n",
              "\n",
              "<svg xmlns=\"http://www.w3.org/2000/svg\" height=\"24px\"viewBox=\"0 0 24 24\"\n",
              "     width=\"24px\">\n",
              "    <g>\n",
              "        <path d=\"M19 3H5c-1.1 0-2 .9-2 2v14c0 1.1.9 2 2 2h14c1.1 0 2-.9 2-2V5c0-1.1-.9-2-2-2zM9 17H7v-7h2v7zm4 0h-2V7h2v10zm4 0h-2v-4h2v4z\"/>\n",
              "    </g>\n",
              "</svg>\n",
              "  </button>\n",
              "\n",
              "<style>\n",
              "  .colab-df-quickchart {\n",
              "      --bg-color: #E8F0FE;\n",
              "      --fill-color: #1967D2;\n",
              "      --hover-bg-color: #E2EBFA;\n",
              "      --hover-fill-color: #174EA6;\n",
              "      --disabled-fill-color: #AAA;\n",
              "      --disabled-bg-color: #DDD;\n",
              "  }\n",
              "\n",
              "  [theme=dark] .colab-df-quickchart {\n",
              "      --bg-color: #3B4455;\n",
              "      --fill-color: #D2E3FC;\n",
              "      --hover-bg-color: #434B5C;\n",
              "      --hover-fill-color: #FFFFFF;\n",
              "      --disabled-bg-color: #3B4455;\n",
              "      --disabled-fill-color: #666;\n",
              "  }\n",
              "\n",
              "  .colab-df-quickchart {\n",
              "    background-color: var(--bg-color);\n",
              "    border: none;\n",
              "    border-radius: 50%;\n",
              "    cursor: pointer;\n",
              "    display: none;\n",
              "    fill: var(--fill-color);\n",
              "    height: 32px;\n",
              "    padding: 0;\n",
              "    width: 32px;\n",
              "  }\n",
              "\n",
              "  .colab-df-quickchart:hover {\n",
              "    background-color: var(--hover-bg-color);\n",
              "    box-shadow: 0 1px 2px rgba(60, 64, 67, 0.3), 0 1px 3px 1px rgba(60, 64, 67, 0.15);\n",
              "    fill: var(--button-hover-fill-color);\n",
              "  }\n",
              "\n",
              "  .colab-df-quickchart-complete:disabled,\n",
              "  .colab-df-quickchart-complete:disabled:hover {\n",
              "    background-color: var(--disabled-bg-color);\n",
              "    fill: var(--disabled-fill-color);\n",
              "    box-shadow: none;\n",
              "  }\n",
              "\n",
              "  .colab-df-spinner {\n",
              "    border: 2px solid var(--fill-color);\n",
              "    border-color: transparent;\n",
              "    border-bottom-color: var(--fill-color);\n",
              "    animation:\n",
              "      spin 1s steps(1) infinite;\n",
              "  }\n",
              "\n",
              "  @keyframes spin {\n",
              "    0% {\n",
              "      border-color: transparent;\n",
              "      border-bottom-color: var(--fill-color);\n",
              "      border-left-color: var(--fill-color);\n",
              "    }\n",
              "    20% {\n",
              "      border-color: transparent;\n",
              "      border-left-color: var(--fill-color);\n",
              "      border-top-color: var(--fill-color);\n",
              "    }\n",
              "    30% {\n",
              "      border-color: transparent;\n",
              "      border-left-color: var(--fill-color);\n",
              "      border-top-color: var(--fill-color);\n",
              "      border-right-color: var(--fill-color);\n",
              "    }\n",
              "    40% {\n",
              "      border-color: transparent;\n",
              "      border-right-color: var(--fill-color);\n",
              "      border-top-color: var(--fill-color);\n",
              "    }\n",
              "    60% {\n",
              "      border-color: transparent;\n",
              "      border-right-color: var(--fill-color);\n",
              "    }\n",
              "    80% {\n",
              "      border-color: transparent;\n",
              "      border-right-color: var(--fill-color);\n",
              "      border-bottom-color: var(--fill-color);\n",
              "    }\n",
              "    90% {\n",
              "      border-color: transparent;\n",
              "      border-bottom-color: var(--fill-color);\n",
              "    }\n",
              "  }\n",
              "</style>\n",
              "\n",
              "  <script>\n",
              "    async function quickchart(key) {\n",
              "      const quickchartButtonEl =\n",
              "        document.querySelector('#' + key + ' button');\n",
              "      quickchartButtonEl.disabled = true;  // To prevent multiple clicks.\n",
              "      quickchartButtonEl.classList.add('colab-df-spinner');\n",
              "      try {\n",
              "        const charts = await google.colab.kernel.invokeFunction(\n",
              "            'suggestCharts', [key], {});\n",
              "      } catch (error) {\n",
              "        console.error('Error during call to suggestCharts:', error);\n",
              "      }\n",
              "      quickchartButtonEl.classList.remove('colab-df-spinner');\n",
              "      quickchartButtonEl.classList.add('colab-df-quickchart-complete');\n",
              "    }\n",
              "    (() => {\n",
              "      let quickchartButtonEl =\n",
              "        document.querySelector('#df-2739c634-9a9c-4d09-8b94-9e0e50d0a15f button');\n",
              "      quickchartButtonEl.style.display =\n",
              "        google.colab.kernel.accessAllowed ? 'block' : 'none';\n",
              "    })();\n",
              "  </script>\n",
              "</div>\n",
              "    </div>\n",
              "  </div>\n"
            ]
          },
          "metadata": {},
          "execution_count": 18
        }
      ]
    },
    {
      "cell_type": "markdown",
      "source": [
        "\n",
        "Random Forest Classifier and Permutation Importance Technique"
      ],
      "metadata": {
        "id": "TVQBLee0eaAl"
      }
    },
    {
      "cell_type": "code",
      "source": [
        "import pandas as pd\n",
        "from sklearn.ensemble import RandomForestClassifier\n",
        "from sklearn.model_selection import train_test_split\n",
        "from sklearn.metrics import accuracy_score\n",
        "from sklearn.inspection import permutation_importance\n",
        "\n",
        "# Assuming your target variable is 'Accident_Hotspot'\n",
        "features = ['Latitude', 'Longitude', 'Day_of_Week', 'Road_Type', 'Speed_limit', 'Light_Conditions', 'Weather_Conditions', 'Road_Surface_Conditions','Part_of_Day']\n",
        "X = data[features]\n",
        "y = data['Accident_Severity']\n",
        "\n",
        "# Split the data into training and testing sets\n",
        "X_train, X_test, y_train, y_test = train_test_split(X, y, test_size=0.2, random_state=42)\n",
        "\n",
        "# Initialize the random forest classifier\n",
        "rf_classifier = RandomForestClassifier(random_state=42)\n",
        "\n",
        "# Train the classifier\n",
        "rf_classifier.fit(X_train, y_train)\n",
        "\n",
        "# Evaluate the model accuracy on the test set\n",
        "accuracy = accuracy_score(y_test, rf_classifier.predict(X_test))\n",
        "print(\"Accuracy before feature selection:\", accuracy)\n",
        "\n",
        "# Use permutation importance to get feature importance scores\n",
        "perm_importance = permutation_importance(rf_classifier, X_test, y_test, n_repeats=30, random_state=42)\n",
        "\n",
        "# Get feature importance scores\n",
        "feature_importance_scores = pd.DataFrame({'feature': X.columns, 'importance': perm_importance.importances_mean})\n",
        "\n",
        "# Sort features by importance\n",
        "sorted_features = feature_importance_scores.sort_values(by='importance', ascending=False)\n",
        "\n",
        "N=8\n",
        "\n",
        "# Select the top N features based on importance\n",
        "top_features = sorted_features.head(N)\n",
        "\n",
        "# Use only top features for training and testing\n",
        "X_train_selected = X_train[top_features['feature']]\n",
        "X_test_selected = X_test[top_features['feature']]\n",
        "\n",
        "# Initialize a new random forest classifier with selected features\n",
        "rf_classifier_selected = RandomForestClassifier(random_state=42)\n",
        "\n",
        "# Train the classifier with selected features\n",
        "rf_classifier_selected.fit(X_train_selected, y_train)\n",
        "\n",
        "# Evaluate the model accuracy on the test set after feature selection\n",
        "accuracy_selected = accuracy_score(y_test, rf_classifier_selected.predict(X_test_selected))\n",
        "print(\"Accuracy after feature selection:\", accuracy_selected)\n"
      ],
      "metadata": {
        "colab": {
          "base_uri": "https://localhost:8080/",
          "height": 407
        },
        "id": "T84b2Nn9b9dQ",
        "outputId": "c6d8fba4-ee1c-4f87-d192-7c7b2cb04a5a"
      },
      "execution_count": null,
      "outputs": [
        {
          "output_type": "stream",
          "name": "stdout",
          "text": [
            "Accuracy before feature selection: 0.8364159473900534\n"
          ]
        },
        {
          "output_type": "error",
          "ename": "KeyboardInterrupt",
          "evalue": "ignored",
          "traceback": [
            "\u001b[0;31m---------------------------------------------------------------------------\u001b[0m",
            "\u001b[0;31mKeyboardInterrupt\u001b[0m                         Traceback (most recent call last)",
            "\u001b[0;32m<ipython-input-19-871fcf48642c>\u001b[0m in \u001b[0;36m<cell line: 26>\u001b[0;34m()\u001b[0m\n\u001b[1;32m     24\u001b[0m \u001b[0;34m\u001b[0m\u001b[0m\n\u001b[1;32m     25\u001b[0m \u001b[0;31m# Use permutation importance to get feature importance scores\u001b[0m\u001b[0;34m\u001b[0m\u001b[0;34m\u001b[0m\u001b[0m\n\u001b[0;32m---> 26\u001b[0;31m \u001b[0mperm_importance\u001b[0m \u001b[0;34m=\u001b[0m \u001b[0mpermutation_importance\u001b[0m\u001b[0;34m(\u001b[0m\u001b[0mrf_classifier\u001b[0m\u001b[0;34m,\u001b[0m \u001b[0mX_test\u001b[0m\u001b[0;34m,\u001b[0m \u001b[0my_test\u001b[0m\u001b[0;34m,\u001b[0m \u001b[0mn_repeats\u001b[0m\u001b[0;34m=\u001b[0m\u001b[0;36m30\u001b[0m\u001b[0;34m,\u001b[0m \u001b[0mrandom_state\u001b[0m\u001b[0;34m=\u001b[0m\u001b[0;36m42\u001b[0m\u001b[0;34m)\u001b[0m\u001b[0;34m\u001b[0m\u001b[0;34m\u001b[0m\u001b[0m\n\u001b[0m\u001b[1;32m     27\u001b[0m \u001b[0;34m\u001b[0m\u001b[0m\n\u001b[1;32m     28\u001b[0m \u001b[0;31m# Get feature importance scores\u001b[0m\u001b[0;34m\u001b[0m\u001b[0;34m\u001b[0m\u001b[0m\n",
            "\u001b[0;32m/usr/local/lib/python3.10/dist-packages/sklearn/inspection/_permutation_importance.py\u001b[0m in \u001b[0;36mpermutation_importance\u001b[0;34m(estimator, X, y, scoring, n_repeats, n_jobs, random_state, sample_weight, max_samples)\u001b[0m\n\u001b[1;32m    256\u001b[0m     \u001b[0mbaseline_score\u001b[0m \u001b[0;34m=\u001b[0m \u001b[0m_weights_scorer\u001b[0m\u001b[0;34m(\u001b[0m\u001b[0mscorer\u001b[0m\u001b[0;34m,\u001b[0m \u001b[0mestimator\u001b[0m\u001b[0;34m,\u001b[0m \u001b[0mX\u001b[0m\u001b[0;34m,\u001b[0m \u001b[0my\u001b[0m\u001b[0;34m,\u001b[0m \u001b[0msample_weight\u001b[0m\u001b[0;34m)\u001b[0m\u001b[0;34m\u001b[0m\u001b[0;34m\u001b[0m\u001b[0m\n\u001b[1;32m    257\u001b[0m \u001b[0;34m\u001b[0m\u001b[0m\n\u001b[0;32m--> 258\u001b[0;31m     scores = Parallel(n_jobs=n_jobs)(\n\u001b[0m\u001b[1;32m    259\u001b[0m         delayed(_calculate_permutation_scores)(\n\u001b[1;32m    260\u001b[0m             \u001b[0mestimator\u001b[0m\u001b[0;34m,\u001b[0m\u001b[0;34m\u001b[0m\u001b[0;34m\u001b[0m\u001b[0m\n",
            "\u001b[0;32m/usr/local/lib/python3.10/dist-packages/sklearn/utils/parallel.py\u001b[0m in \u001b[0;36m__call__\u001b[0;34m(self, iterable)\u001b[0m\n\u001b[1;32m     61\u001b[0m             \u001b[0;32mfor\u001b[0m \u001b[0mdelayed_func\u001b[0m\u001b[0;34m,\u001b[0m \u001b[0margs\u001b[0m\u001b[0;34m,\u001b[0m \u001b[0mkwargs\u001b[0m \u001b[0;32min\u001b[0m \u001b[0miterable\u001b[0m\u001b[0;34m\u001b[0m\u001b[0;34m\u001b[0m\u001b[0m\n\u001b[1;32m     62\u001b[0m         )\n\u001b[0;32m---> 63\u001b[0;31m         \u001b[0;32mreturn\u001b[0m \u001b[0msuper\u001b[0m\u001b[0;34m(\u001b[0m\u001b[0;34m)\u001b[0m\u001b[0;34m.\u001b[0m\u001b[0m__call__\u001b[0m\u001b[0;34m(\u001b[0m\u001b[0miterable_with_config\u001b[0m\u001b[0;34m)\u001b[0m\u001b[0;34m\u001b[0m\u001b[0;34m\u001b[0m\u001b[0m\n\u001b[0m\u001b[1;32m     64\u001b[0m \u001b[0;34m\u001b[0m\u001b[0m\n\u001b[1;32m     65\u001b[0m \u001b[0;34m\u001b[0m\u001b[0m\n",
            "\u001b[0;32m/usr/local/lib/python3.10/dist-packages/joblib/parallel.py\u001b[0m in \u001b[0;36m__call__\u001b[0;34m(self, iterable)\u001b[0m\n\u001b[1;32m   1861\u001b[0m             \u001b[0moutput\u001b[0m \u001b[0;34m=\u001b[0m \u001b[0mself\u001b[0m\u001b[0;34m.\u001b[0m\u001b[0m_get_sequential_output\u001b[0m\u001b[0;34m(\u001b[0m\u001b[0miterable\u001b[0m\u001b[0;34m)\u001b[0m\u001b[0;34m\u001b[0m\u001b[0;34m\u001b[0m\u001b[0m\n\u001b[1;32m   1862\u001b[0m             \u001b[0mnext\u001b[0m\u001b[0;34m(\u001b[0m\u001b[0moutput\u001b[0m\u001b[0;34m)\u001b[0m\u001b[0;34m\u001b[0m\u001b[0;34m\u001b[0m\u001b[0m\n\u001b[0;32m-> 1863\u001b[0;31m             \u001b[0;32mreturn\u001b[0m \u001b[0moutput\u001b[0m \u001b[0;32mif\u001b[0m \u001b[0mself\u001b[0m\u001b[0;34m.\u001b[0m\u001b[0mreturn_generator\u001b[0m \u001b[0;32melse\u001b[0m \u001b[0mlist\u001b[0m\u001b[0;34m(\u001b[0m\u001b[0moutput\u001b[0m\u001b[0;34m)\u001b[0m\u001b[0;34m\u001b[0m\u001b[0;34m\u001b[0m\u001b[0m\n\u001b[0m\u001b[1;32m   1864\u001b[0m \u001b[0;34m\u001b[0m\u001b[0m\n\u001b[1;32m   1865\u001b[0m         \u001b[0;31m# Let's create an ID that uniquely identifies the current call. If the\u001b[0m\u001b[0;34m\u001b[0m\u001b[0;34m\u001b[0m\u001b[0m\n",
            "\u001b[0;32m/usr/local/lib/python3.10/dist-packages/joblib/parallel.py\u001b[0m in \u001b[0;36m_get_sequential_output\u001b[0;34m(self, iterable)\u001b[0m\n\u001b[1;32m   1790\u001b[0m                 \u001b[0mself\u001b[0m\u001b[0;34m.\u001b[0m\u001b[0mn_dispatched_batches\u001b[0m \u001b[0;34m+=\u001b[0m \u001b[0;36m1\u001b[0m\u001b[0;34m\u001b[0m\u001b[0;34m\u001b[0m\u001b[0m\n\u001b[1;32m   1791\u001b[0m                 \u001b[0mself\u001b[0m\u001b[0;34m.\u001b[0m\u001b[0mn_dispatched_tasks\u001b[0m \u001b[0;34m+=\u001b[0m \u001b[0;36m1\u001b[0m\u001b[0;34m\u001b[0m\u001b[0;34m\u001b[0m\u001b[0m\n\u001b[0;32m-> 1792\u001b[0;31m                 \u001b[0mres\u001b[0m \u001b[0;34m=\u001b[0m \u001b[0mfunc\u001b[0m\u001b[0;34m(\u001b[0m\u001b[0;34m*\u001b[0m\u001b[0margs\u001b[0m\u001b[0;34m,\u001b[0m \u001b[0;34m**\u001b[0m\u001b[0mkwargs\u001b[0m\u001b[0;34m)\u001b[0m\u001b[0;34m\u001b[0m\u001b[0;34m\u001b[0m\u001b[0m\n\u001b[0m\u001b[1;32m   1793\u001b[0m                 \u001b[0mself\u001b[0m\u001b[0;34m.\u001b[0m\u001b[0mn_completed_tasks\u001b[0m \u001b[0;34m+=\u001b[0m \u001b[0;36m1\u001b[0m\u001b[0;34m\u001b[0m\u001b[0;34m\u001b[0m\u001b[0m\n\u001b[1;32m   1794\u001b[0m                 \u001b[0mself\u001b[0m\u001b[0;34m.\u001b[0m\u001b[0mprint_progress\u001b[0m\u001b[0;34m(\u001b[0m\u001b[0;34m)\u001b[0m\u001b[0;34m\u001b[0m\u001b[0;34m\u001b[0m\u001b[0m\n",
            "\u001b[0;32m/usr/local/lib/python3.10/dist-packages/sklearn/utils/parallel.py\u001b[0m in \u001b[0;36m__call__\u001b[0;34m(self, *args, **kwargs)\u001b[0m\n\u001b[1;32m    121\u001b[0m             \u001b[0mconfig\u001b[0m \u001b[0;34m=\u001b[0m \u001b[0;34m{\u001b[0m\u001b[0;34m}\u001b[0m\u001b[0;34m\u001b[0m\u001b[0;34m\u001b[0m\u001b[0m\n\u001b[1;32m    122\u001b[0m         \u001b[0;32mwith\u001b[0m \u001b[0mconfig_context\u001b[0m\u001b[0;34m(\u001b[0m\u001b[0;34m**\u001b[0m\u001b[0mconfig\u001b[0m\u001b[0;34m)\u001b[0m\u001b[0;34m:\u001b[0m\u001b[0;34m\u001b[0m\u001b[0;34m\u001b[0m\u001b[0m\n\u001b[0;32m--> 123\u001b[0;31m             \u001b[0;32mreturn\u001b[0m \u001b[0mself\u001b[0m\u001b[0;34m.\u001b[0m\u001b[0mfunction\u001b[0m\u001b[0;34m(\u001b[0m\u001b[0;34m*\u001b[0m\u001b[0margs\u001b[0m\u001b[0;34m,\u001b[0m \u001b[0;34m**\u001b[0m\u001b[0mkwargs\u001b[0m\u001b[0;34m)\u001b[0m\u001b[0;34m\u001b[0m\u001b[0;34m\u001b[0m\u001b[0m\n\u001b[0m",
            "\u001b[0;32m/usr/local/lib/python3.10/dist-packages/sklearn/inspection/_permutation_importance.py\u001b[0m in \u001b[0;36m_calculate_permutation_scores\u001b[0;34m(estimator, X, y, sample_weight, col_idx, random_state, n_repeats, scorer, max_samples)\u001b[0m\n\u001b[1;32m     61\u001b[0m         \u001b[0;32melse\u001b[0m\u001b[0;34m:\u001b[0m\u001b[0;34m\u001b[0m\u001b[0;34m\u001b[0m\u001b[0m\n\u001b[1;32m     62\u001b[0m             \u001b[0mX_permuted\u001b[0m\u001b[0;34m[\u001b[0m\u001b[0;34m:\u001b[0m\u001b[0;34m,\u001b[0m \u001b[0mcol_idx\u001b[0m\u001b[0;34m]\u001b[0m \u001b[0;34m=\u001b[0m \u001b[0mX_permuted\u001b[0m\u001b[0;34m[\u001b[0m\u001b[0mshuffling_idx\u001b[0m\u001b[0;34m,\u001b[0m \u001b[0mcol_idx\u001b[0m\u001b[0;34m]\u001b[0m\u001b[0;34m\u001b[0m\u001b[0;34m\u001b[0m\u001b[0m\n\u001b[0;32m---> 63\u001b[0;31m         \u001b[0mscores\u001b[0m\u001b[0;34m.\u001b[0m\u001b[0mappend\u001b[0m\u001b[0;34m(\u001b[0m\u001b[0m_weights_scorer\u001b[0m\u001b[0;34m(\u001b[0m\u001b[0mscorer\u001b[0m\u001b[0;34m,\u001b[0m \u001b[0mestimator\u001b[0m\u001b[0;34m,\u001b[0m \u001b[0mX_permuted\u001b[0m\u001b[0;34m,\u001b[0m \u001b[0my\u001b[0m\u001b[0;34m,\u001b[0m \u001b[0msample_weight\u001b[0m\u001b[0;34m)\u001b[0m\u001b[0;34m)\u001b[0m\u001b[0;34m\u001b[0m\u001b[0;34m\u001b[0m\u001b[0m\n\u001b[0m\u001b[1;32m     64\u001b[0m \u001b[0;34m\u001b[0m\u001b[0m\n\u001b[1;32m     65\u001b[0m     \u001b[0;32mif\u001b[0m \u001b[0misinstance\u001b[0m\u001b[0;34m(\u001b[0m\u001b[0mscores\u001b[0m\u001b[0;34m[\u001b[0m\u001b[0;36m0\u001b[0m\u001b[0;34m]\u001b[0m\u001b[0;34m,\u001b[0m \u001b[0mdict\u001b[0m\u001b[0;34m)\u001b[0m\u001b[0;34m:\u001b[0m\u001b[0;34m\u001b[0m\u001b[0;34m\u001b[0m\u001b[0m\n",
            "\u001b[0;32m/usr/local/lib/python3.10/dist-packages/sklearn/inspection/_permutation_importance.py\u001b[0m in \u001b[0;36m_weights_scorer\u001b[0;34m(scorer, estimator, X, y, sample_weight)\u001b[0m\n\u001b[1;32m     16\u001b[0m     \u001b[0;32mif\u001b[0m \u001b[0msample_weight\u001b[0m \u001b[0;32mis\u001b[0m \u001b[0;32mnot\u001b[0m \u001b[0;32mNone\u001b[0m\u001b[0;34m:\u001b[0m\u001b[0;34m\u001b[0m\u001b[0;34m\u001b[0m\u001b[0m\n\u001b[1;32m     17\u001b[0m         \u001b[0;32mreturn\u001b[0m \u001b[0mscorer\u001b[0m\u001b[0;34m(\u001b[0m\u001b[0mestimator\u001b[0m\u001b[0;34m,\u001b[0m \u001b[0mX\u001b[0m\u001b[0;34m,\u001b[0m \u001b[0my\u001b[0m\u001b[0;34m,\u001b[0m \u001b[0msample_weight\u001b[0m\u001b[0;34m)\u001b[0m\u001b[0;34m\u001b[0m\u001b[0;34m\u001b[0m\u001b[0m\n\u001b[0;32m---> 18\u001b[0;31m     \u001b[0;32mreturn\u001b[0m \u001b[0mscorer\u001b[0m\u001b[0;34m(\u001b[0m\u001b[0mestimator\u001b[0m\u001b[0;34m,\u001b[0m \u001b[0mX\u001b[0m\u001b[0;34m,\u001b[0m \u001b[0my\u001b[0m\u001b[0;34m)\u001b[0m\u001b[0;34m\u001b[0m\u001b[0;34m\u001b[0m\u001b[0m\n\u001b[0m\u001b[1;32m     19\u001b[0m \u001b[0;34m\u001b[0m\u001b[0m\n\u001b[1;32m     20\u001b[0m \u001b[0;34m\u001b[0m\u001b[0m\n",
            "\u001b[0;32m/usr/local/lib/python3.10/dist-packages/sklearn/metrics/_scorer.py\u001b[0m in \u001b[0;36m_passthrough_scorer\u001b[0;34m(estimator, *args, **kwargs)\u001b[0m\n\u001b[1;32m    442\u001b[0m \u001b[0;32mdef\u001b[0m \u001b[0m_passthrough_scorer\u001b[0m\u001b[0;34m(\u001b[0m\u001b[0mestimator\u001b[0m\u001b[0;34m,\u001b[0m \u001b[0;34m*\u001b[0m\u001b[0margs\u001b[0m\u001b[0;34m,\u001b[0m \u001b[0;34m**\u001b[0m\u001b[0mkwargs\u001b[0m\u001b[0;34m)\u001b[0m\u001b[0;34m:\u001b[0m\u001b[0;34m\u001b[0m\u001b[0;34m\u001b[0m\u001b[0m\n\u001b[1;32m    443\u001b[0m     \u001b[0;34m\"\"\"Function that wraps estimator.score\"\"\"\u001b[0m\u001b[0;34m\u001b[0m\u001b[0;34m\u001b[0m\u001b[0m\n\u001b[0;32m--> 444\u001b[0;31m     \u001b[0;32mreturn\u001b[0m \u001b[0mestimator\u001b[0m\u001b[0;34m.\u001b[0m\u001b[0mscore\u001b[0m\u001b[0;34m(\u001b[0m\u001b[0;34m*\u001b[0m\u001b[0margs\u001b[0m\u001b[0;34m,\u001b[0m \u001b[0;34m**\u001b[0m\u001b[0mkwargs\u001b[0m\u001b[0;34m)\u001b[0m\u001b[0;34m\u001b[0m\u001b[0;34m\u001b[0m\u001b[0m\n\u001b[0m\u001b[1;32m    445\u001b[0m \u001b[0;34m\u001b[0m\u001b[0m\n\u001b[1;32m    446\u001b[0m \u001b[0;34m\u001b[0m\u001b[0m\n",
            "\u001b[0;32m/usr/local/lib/python3.10/dist-packages/sklearn/base.py\u001b[0m in \u001b[0;36mscore\u001b[0;34m(self, X, y, sample_weight)\u001b[0m\n\u001b[1;32m    666\u001b[0m         \u001b[0;32mfrom\u001b[0m \u001b[0;34m.\u001b[0m\u001b[0mmetrics\u001b[0m \u001b[0;32mimport\u001b[0m \u001b[0maccuracy_score\u001b[0m\u001b[0;34m\u001b[0m\u001b[0;34m\u001b[0m\u001b[0m\n\u001b[1;32m    667\u001b[0m \u001b[0;34m\u001b[0m\u001b[0m\n\u001b[0;32m--> 668\u001b[0;31m         \u001b[0;32mreturn\u001b[0m \u001b[0maccuracy_score\u001b[0m\u001b[0;34m(\u001b[0m\u001b[0my\u001b[0m\u001b[0;34m,\u001b[0m \u001b[0mself\u001b[0m\u001b[0;34m.\u001b[0m\u001b[0mpredict\u001b[0m\u001b[0;34m(\u001b[0m\u001b[0mX\u001b[0m\u001b[0;34m)\u001b[0m\u001b[0;34m,\u001b[0m \u001b[0msample_weight\u001b[0m\u001b[0;34m=\u001b[0m\u001b[0msample_weight\u001b[0m\u001b[0;34m)\u001b[0m\u001b[0;34m\u001b[0m\u001b[0;34m\u001b[0m\u001b[0m\n\u001b[0m\u001b[1;32m    669\u001b[0m \u001b[0;34m\u001b[0m\u001b[0m\n\u001b[1;32m    670\u001b[0m     \u001b[0;32mdef\u001b[0m \u001b[0m_more_tags\u001b[0m\u001b[0;34m(\u001b[0m\u001b[0mself\u001b[0m\u001b[0;34m)\u001b[0m\u001b[0;34m:\u001b[0m\u001b[0;34m\u001b[0m\u001b[0;34m\u001b[0m\u001b[0m\n",
            "\u001b[0;32m/usr/local/lib/python3.10/dist-packages/sklearn/ensemble/_forest.py\u001b[0m in \u001b[0;36mpredict\u001b[0;34m(self, X)\u001b[0m\n\u001b[1;32m    818\u001b[0m             \u001b[0mThe\u001b[0m \u001b[0mpredicted\u001b[0m \u001b[0mclasses\u001b[0m\u001b[0;34m.\u001b[0m\u001b[0;34m\u001b[0m\u001b[0;34m\u001b[0m\u001b[0m\n\u001b[1;32m    819\u001b[0m         \"\"\"\n\u001b[0;32m--> 820\u001b[0;31m         \u001b[0mproba\u001b[0m \u001b[0;34m=\u001b[0m \u001b[0mself\u001b[0m\u001b[0;34m.\u001b[0m\u001b[0mpredict_proba\u001b[0m\u001b[0;34m(\u001b[0m\u001b[0mX\u001b[0m\u001b[0;34m)\u001b[0m\u001b[0;34m\u001b[0m\u001b[0;34m\u001b[0m\u001b[0m\n\u001b[0m\u001b[1;32m    821\u001b[0m \u001b[0;34m\u001b[0m\u001b[0m\n\u001b[1;32m    822\u001b[0m         \u001b[0;32mif\u001b[0m \u001b[0mself\u001b[0m\u001b[0;34m.\u001b[0m\u001b[0mn_outputs_\u001b[0m \u001b[0;34m==\u001b[0m \u001b[0;36m1\u001b[0m\u001b[0;34m:\u001b[0m\u001b[0;34m\u001b[0m\u001b[0;34m\u001b[0m\u001b[0m\n",
            "\u001b[0;32m/usr/local/lib/python3.10/dist-packages/sklearn/ensemble/_forest.py\u001b[0m in \u001b[0;36mpredict_proba\u001b[0;34m(self, X)\u001b[0m\n\u001b[1;32m    871\u001b[0m         ]\n\u001b[1;32m    872\u001b[0m         \u001b[0mlock\u001b[0m \u001b[0;34m=\u001b[0m \u001b[0mthreading\u001b[0m\u001b[0;34m.\u001b[0m\u001b[0mLock\u001b[0m\u001b[0;34m(\u001b[0m\u001b[0;34m)\u001b[0m\u001b[0;34m\u001b[0m\u001b[0;34m\u001b[0m\u001b[0m\n\u001b[0;32m--> 873\u001b[0;31m         Parallel(n_jobs=n_jobs, verbose=self.verbose, require=\"sharedmem\")(\n\u001b[0m\u001b[1;32m    874\u001b[0m             \u001b[0mdelayed\u001b[0m\u001b[0;34m(\u001b[0m\u001b[0m_accumulate_prediction\u001b[0m\u001b[0;34m)\u001b[0m\u001b[0;34m(\u001b[0m\u001b[0me\u001b[0m\u001b[0;34m.\u001b[0m\u001b[0mpredict_proba\u001b[0m\u001b[0;34m,\u001b[0m \u001b[0mX\u001b[0m\u001b[0;34m,\u001b[0m \u001b[0mall_proba\u001b[0m\u001b[0;34m,\u001b[0m \u001b[0mlock\u001b[0m\u001b[0;34m)\u001b[0m\u001b[0;34m\u001b[0m\u001b[0;34m\u001b[0m\u001b[0m\n\u001b[1;32m    875\u001b[0m             \u001b[0;32mfor\u001b[0m \u001b[0me\u001b[0m \u001b[0;32min\u001b[0m \u001b[0mself\u001b[0m\u001b[0;34m.\u001b[0m\u001b[0mestimators_\u001b[0m\u001b[0;34m\u001b[0m\u001b[0;34m\u001b[0m\u001b[0m\n",
            "\u001b[0;32m/usr/local/lib/python3.10/dist-packages/sklearn/utils/parallel.py\u001b[0m in \u001b[0;36m__call__\u001b[0;34m(self, iterable)\u001b[0m\n\u001b[1;32m     61\u001b[0m             \u001b[0;32mfor\u001b[0m \u001b[0mdelayed_func\u001b[0m\u001b[0;34m,\u001b[0m \u001b[0margs\u001b[0m\u001b[0;34m,\u001b[0m \u001b[0mkwargs\u001b[0m \u001b[0;32min\u001b[0m \u001b[0miterable\u001b[0m\u001b[0;34m\u001b[0m\u001b[0;34m\u001b[0m\u001b[0m\n\u001b[1;32m     62\u001b[0m         )\n\u001b[0;32m---> 63\u001b[0;31m         \u001b[0;32mreturn\u001b[0m \u001b[0msuper\u001b[0m\u001b[0;34m(\u001b[0m\u001b[0;34m)\u001b[0m\u001b[0;34m.\u001b[0m\u001b[0m__call__\u001b[0m\u001b[0;34m(\u001b[0m\u001b[0miterable_with_config\u001b[0m\u001b[0;34m)\u001b[0m\u001b[0;34m\u001b[0m\u001b[0;34m\u001b[0m\u001b[0m\n\u001b[0m\u001b[1;32m     64\u001b[0m \u001b[0;34m\u001b[0m\u001b[0m\n\u001b[1;32m     65\u001b[0m \u001b[0;34m\u001b[0m\u001b[0m\n",
            "\u001b[0;32m/usr/local/lib/python3.10/dist-packages/joblib/parallel.py\u001b[0m in \u001b[0;36m__call__\u001b[0;34m(self, iterable)\u001b[0m\n\u001b[1;32m   1861\u001b[0m             \u001b[0moutput\u001b[0m \u001b[0;34m=\u001b[0m \u001b[0mself\u001b[0m\u001b[0;34m.\u001b[0m\u001b[0m_get_sequential_output\u001b[0m\u001b[0;34m(\u001b[0m\u001b[0miterable\u001b[0m\u001b[0;34m)\u001b[0m\u001b[0;34m\u001b[0m\u001b[0;34m\u001b[0m\u001b[0m\n\u001b[1;32m   1862\u001b[0m             \u001b[0mnext\u001b[0m\u001b[0;34m(\u001b[0m\u001b[0moutput\u001b[0m\u001b[0;34m)\u001b[0m\u001b[0;34m\u001b[0m\u001b[0;34m\u001b[0m\u001b[0m\n\u001b[0;32m-> 1863\u001b[0;31m             \u001b[0;32mreturn\u001b[0m \u001b[0moutput\u001b[0m \u001b[0;32mif\u001b[0m \u001b[0mself\u001b[0m\u001b[0;34m.\u001b[0m\u001b[0mreturn_generator\u001b[0m \u001b[0;32melse\u001b[0m \u001b[0mlist\u001b[0m\u001b[0;34m(\u001b[0m\u001b[0moutput\u001b[0m\u001b[0;34m)\u001b[0m\u001b[0;34m\u001b[0m\u001b[0;34m\u001b[0m\u001b[0m\n\u001b[0m\u001b[1;32m   1864\u001b[0m \u001b[0;34m\u001b[0m\u001b[0m\n\u001b[1;32m   1865\u001b[0m         \u001b[0;31m# Let's create an ID that uniquely identifies the current call. If the\u001b[0m\u001b[0;34m\u001b[0m\u001b[0;34m\u001b[0m\u001b[0m\n",
            "\u001b[0;32m/usr/local/lib/python3.10/dist-packages/joblib/parallel.py\u001b[0m in \u001b[0;36m_get_sequential_output\u001b[0;34m(self, iterable)\u001b[0m\n\u001b[1;32m   1790\u001b[0m                 \u001b[0mself\u001b[0m\u001b[0;34m.\u001b[0m\u001b[0mn_dispatched_batches\u001b[0m \u001b[0;34m+=\u001b[0m \u001b[0;36m1\u001b[0m\u001b[0;34m\u001b[0m\u001b[0;34m\u001b[0m\u001b[0m\n\u001b[1;32m   1791\u001b[0m                 \u001b[0mself\u001b[0m\u001b[0;34m.\u001b[0m\u001b[0mn_dispatched_tasks\u001b[0m \u001b[0;34m+=\u001b[0m \u001b[0;36m1\u001b[0m\u001b[0;34m\u001b[0m\u001b[0;34m\u001b[0m\u001b[0m\n\u001b[0;32m-> 1792\u001b[0;31m                 \u001b[0mres\u001b[0m \u001b[0;34m=\u001b[0m \u001b[0mfunc\u001b[0m\u001b[0;34m(\u001b[0m\u001b[0;34m*\u001b[0m\u001b[0margs\u001b[0m\u001b[0;34m,\u001b[0m \u001b[0;34m**\u001b[0m\u001b[0mkwargs\u001b[0m\u001b[0;34m)\u001b[0m\u001b[0;34m\u001b[0m\u001b[0;34m\u001b[0m\u001b[0m\n\u001b[0m\u001b[1;32m   1793\u001b[0m                 \u001b[0mself\u001b[0m\u001b[0;34m.\u001b[0m\u001b[0mn_completed_tasks\u001b[0m \u001b[0;34m+=\u001b[0m \u001b[0;36m1\u001b[0m\u001b[0;34m\u001b[0m\u001b[0;34m\u001b[0m\u001b[0m\n\u001b[1;32m   1794\u001b[0m                 \u001b[0mself\u001b[0m\u001b[0;34m.\u001b[0m\u001b[0mprint_progress\u001b[0m\u001b[0;34m(\u001b[0m\u001b[0;34m)\u001b[0m\u001b[0;34m\u001b[0m\u001b[0;34m\u001b[0m\u001b[0m\n",
            "\u001b[0;32m/usr/local/lib/python3.10/dist-packages/sklearn/utils/parallel.py\u001b[0m in \u001b[0;36m__call__\u001b[0;34m(self, *args, **kwargs)\u001b[0m\n\u001b[1;32m    121\u001b[0m             \u001b[0mconfig\u001b[0m \u001b[0;34m=\u001b[0m \u001b[0;34m{\u001b[0m\u001b[0;34m}\u001b[0m\u001b[0;34m\u001b[0m\u001b[0;34m\u001b[0m\u001b[0m\n\u001b[1;32m    122\u001b[0m         \u001b[0;32mwith\u001b[0m \u001b[0mconfig_context\u001b[0m\u001b[0;34m(\u001b[0m\u001b[0;34m**\u001b[0m\u001b[0mconfig\u001b[0m\u001b[0;34m)\u001b[0m\u001b[0;34m:\u001b[0m\u001b[0;34m\u001b[0m\u001b[0;34m\u001b[0m\u001b[0m\n\u001b[0;32m--> 123\u001b[0;31m             \u001b[0;32mreturn\u001b[0m \u001b[0mself\u001b[0m\u001b[0;34m.\u001b[0m\u001b[0mfunction\u001b[0m\u001b[0;34m(\u001b[0m\u001b[0;34m*\u001b[0m\u001b[0margs\u001b[0m\u001b[0;34m,\u001b[0m \u001b[0;34m**\u001b[0m\u001b[0mkwargs\u001b[0m\u001b[0;34m)\u001b[0m\u001b[0;34m\u001b[0m\u001b[0;34m\u001b[0m\u001b[0m\n\u001b[0m",
            "\u001b[0;32m/usr/local/lib/python3.10/dist-packages/sklearn/ensemble/_forest.py\u001b[0m in \u001b[0;36m_accumulate_prediction\u001b[0;34m(predict, X, out, lock)\u001b[0m\n\u001b[1;32m    648\u001b[0m     \u001b[0mcomplains\u001b[0m \u001b[0mthat\u001b[0m \u001b[0mit\u001b[0m \u001b[0mcannot\u001b[0m \u001b[0mpickle\u001b[0m \u001b[0mit\u001b[0m \u001b[0mwhen\u001b[0m \u001b[0mplaced\u001b[0m \u001b[0mthere\u001b[0m\u001b[0;34m.\u001b[0m\u001b[0;34m\u001b[0m\u001b[0;34m\u001b[0m\u001b[0m\n\u001b[1;32m    649\u001b[0m     \"\"\"\n\u001b[0;32m--> 650\u001b[0;31m     \u001b[0mprediction\u001b[0m \u001b[0;34m=\u001b[0m \u001b[0mpredict\u001b[0m\u001b[0;34m(\u001b[0m\u001b[0mX\u001b[0m\u001b[0;34m,\u001b[0m \u001b[0mcheck_input\u001b[0m\u001b[0;34m=\u001b[0m\u001b[0;32mFalse\u001b[0m\u001b[0;34m)\u001b[0m\u001b[0;34m\u001b[0m\u001b[0;34m\u001b[0m\u001b[0m\n\u001b[0m\u001b[1;32m    651\u001b[0m     \u001b[0;32mwith\u001b[0m \u001b[0mlock\u001b[0m\u001b[0;34m:\u001b[0m\u001b[0;34m\u001b[0m\u001b[0;34m\u001b[0m\u001b[0m\n\u001b[1;32m    652\u001b[0m         \u001b[0;32mif\u001b[0m \u001b[0mlen\u001b[0m\u001b[0;34m(\u001b[0m\u001b[0mout\u001b[0m\u001b[0;34m)\u001b[0m \u001b[0;34m==\u001b[0m \u001b[0;36m1\u001b[0m\u001b[0;34m:\u001b[0m\u001b[0;34m\u001b[0m\u001b[0;34m\u001b[0m\u001b[0m\n",
            "\u001b[0;32m/usr/local/lib/python3.10/dist-packages/sklearn/tree/_classes.py\u001b[0m in \u001b[0;36mpredict_proba\u001b[0;34m(self, X, check_input)\u001b[0m\n\u001b[1;32m    921\u001b[0m         \u001b[0mcheck_is_fitted\u001b[0m\u001b[0;34m(\u001b[0m\u001b[0mself\u001b[0m\u001b[0;34m)\u001b[0m\u001b[0;34m\u001b[0m\u001b[0;34m\u001b[0m\u001b[0m\n\u001b[1;32m    922\u001b[0m         \u001b[0mX\u001b[0m \u001b[0;34m=\u001b[0m \u001b[0mself\u001b[0m\u001b[0;34m.\u001b[0m\u001b[0m_validate_X_predict\u001b[0m\u001b[0;34m(\u001b[0m\u001b[0mX\u001b[0m\u001b[0;34m,\u001b[0m \u001b[0mcheck_input\u001b[0m\u001b[0;34m)\u001b[0m\u001b[0;34m\u001b[0m\u001b[0;34m\u001b[0m\u001b[0m\n\u001b[0;32m--> 923\u001b[0;31m         \u001b[0mproba\u001b[0m \u001b[0;34m=\u001b[0m \u001b[0mself\u001b[0m\u001b[0;34m.\u001b[0m\u001b[0mtree_\u001b[0m\u001b[0;34m.\u001b[0m\u001b[0mpredict\u001b[0m\u001b[0;34m(\u001b[0m\u001b[0mX\u001b[0m\u001b[0;34m)\u001b[0m\u001b[0;34m\u001b[0m\u001b[0;34m\u001b[0m\u001b[0m\n\u001b[0m\u001b[1;32m    924\u001b[0m \u001b[0;34m\u001b[0m\u001b[0m\n\u001b[1;32m    925\u001b[0m         \u001b[0;32mif\u001b[0m \u001b[0mself\u001b[0m\u001b[0;34m.\u001b[0m\u001b[0mn_outputs_\u001b[0m \u001b[0;34m==\u001b[0m \u001b[0;36m1\u001b[0m\u001b[0;34m:\u001b[0m\u001b[0;34m\u001b[0m\u001b[0;34m\u001b[0m\u001b[0m\n",
            "\u001b[0;31mKeyboardInterrupt\u001b[0m: "
          ]
        }
      ]
    },
    {
      "cell_type": "markdown",
      "source": [
        "Univariate Feature Selection:\n",
        "\n",
        "\n",
        "```\n",
        "Chi-squared Test\n",
        "```\n",
        "\n"
      ],
      "metadata": {
        "id": "w4vjjAUcejY2"
      }
    },
    {
      "cell_type": "code",
      "source": [
        "from sklearn.feature_selection import SelectKBest, chi2\n",
        "selector = SelectKBest(chi2, k=8)\n",
        "X_new = selector.fit_transform(X, y)\n",
        "\n",
        "# Get the boolean mask of selected features\n",
        "selected_features_mask = selector.get_support()\n",
        "\n",
        "# Get the names of the selected features\n",
        "selected_features = X.columns[selected_features_mask]\n",
        "\n",
        "# Print the names of the selected features\n",
        "print(\"Selected Features:\", selected_features)\n"
      ],
      "metadata": {
        "colab": {
          "base_uri": "https://localhost:8080/"
        },
        "id": "SdCzO-4YeqfP",
        "outputId": "b623c5db-8f05-4a50-ac89-796c326c1274"
      },
      "execution_count": null,
      "outputs": [
        {
          "output_type": "stream",
          "name": "stdout",
          "text": [
            "Selected Features: Index(['Latitude', 'Day_of_Week', 'Road_Type', 'Speed_limit',\n",
            "       'Light_Conditions', 'Weather_Conditions', 'Road_Surface_Conditions',\n",
            "       'Part_of_Day'],\n",
            "      dtype='object')\n"
          ]
        }
      ]
    },
    {
      "cell_type": "code",
      "source": [
        "from sklearn.ensemble import RandomForestClassifier\n",
        "from sklearn.metrics import accuracy_score\n",
        "\n",
        "# Assuming X_train, X_test, y_train, y_test are your training and testing data with selected features\n",
        "X_train_selected = X_train[selected_features]\n",
        "X_test_selected = X_test[selected_features]\n",
        "\n",
        "# Initialize and train a random forest classifier using selected features\n",
        "rf_classifier_selected = RandomForestClassifier(random_state=42)\n",
        "rf_classifier_selected.fit(X_train_selected, y_train)\n",
        "\n",
        "# Make predictions on the test set\n",
        "predictions_selected_features = rf_classifier_selected.predict(X_test_selected)\n",
        "\n",
        "# Calculate accuracy using selected features\n",
        "accuracy_selected_features = accuracy_score(y_test, predictions_selected_features)\n",
        "print(\"Accuracy using selected features:\", accuracy_selected_features)\n"
      ],
      "metadata": {
        "colab": {
          "base_uri": "https://localhost:8080/"
        },
        "id": "FuqCihdfgDPD",
        "outputId": "0d955d5d-dfe3-465e-d97f-1713d7195394"
      },
      "execution_count": null,
      "outputs": [
        {
          "output_type": "stream",
          "name": "stdout",
          "text": [
            "Accuracy using selected features: 0.8047677764077271\n"
          ]
        }
      ]
    },
    {
      "cell_type": "markdown",
      "source": [
        "**Inference:**\n",
        "  \n",
        "```\n",
        "We get a reduced Accuracy when we select features to predict\n",
        "```\n",
        "\n",
        "\n"
      ],
      "metadata": {
        "id": "vUGgV-trfmrd"
      }
    },
    {
      "cell_type": "markdown",
      "source": [
        "# **Accident Severity Prediction**\n",
        "\n"
      ],
      "metadata": {
        "id": "dNQ4cWZP-z8Y"
      }
    },
    {
      "cell_type": "markdown",
      "source": [
        "**Decision Tree**"
      ],
      "metadata": {
        "id": "raPQ12E1JvuD"
      }
    },
    {
      "cell_type": "code",
      "source": [
        "pip install pandas scikit-learn graphviz pydotplus\n"
      ],
      "metadata": {
        "id": "NkBHCN5SIzx8",
        "colab": {
          "base_uri": "https://localhost:8080/"
        },
        "outputId": "112e3abc-82ee-4a52-e191-a8dd00cf9a3b"
      },
      "execution_count": null,
      "outputs": [
        {
          "output_type": "stream",
          "name": "stdout",
          "text": [
            "Requirement already satisfied: pandas in /usr/local/lib/python3.10/dist-packages (1.5.3)\n",
            "Requirement already satisfied: scikit-learn in /usr/local/lib/python3.10/dist-packages (1.2.2)\n",
            "Requirement already satisfied: graphviz in /usr/local/lib/python3.10/dist-packages (0.20.1)\n",
            "Requirement already satisfied: pydotplus in /usr/local/lib/python3.10/dist-packages (2.0.2)\n",
            "Requirement already satisfied: python-dateutil>=2.8.1 in /usr/local/lib/python3.10/dist-packages (from pandas) (2.8.2)\n",
            "Requirement already satisfied: pytz>=2020.1 in /usr/local/lib/python3.10/dist-packages (from pandas) (2023.3.post1)\n",
            "Requirement already satisfied: numpy>=1.21.0 in /usr/local/lib/python3.10/dist-packages (from pandas) (1.23.5)\n",
            "Requirement already satisfied: scipy>=1.3.2 in /usr/local/lib/python3.10/dist-packages (from scikit-learn) (1.11.3)\n",
            "Requirement already satisfied: joblib>=1.1.1 in /usr/local/lib/python3.10/dist-packages (from scikit-learn) (1.3.2)\n",
            "Requirement already satisfied: threadpoolctl>=2.0.0 in /usr/local/lib/python3.10/dist-packages (from scikit-learn) (3.2.0)\n",
            "Requirement already satisfied: pyparsing>=2.0.1 in /usr/local/lib/python3.10/dist-packages (from pydotplus) (3.1.1)\n",
            "Requirement already satisfied: six>=1.5 in /usr/local/lib/python3.10/dist-packages (from python-dateutil>=2.8.1->pandas) (1.16.0)\n"
          ]
        }
      ]
    },
    {
      "cell_type": "code",
      "source": [
        "\n",
        "# Import necessary libraries\n",
        "import pandas as pd\n",
        "from sklearn.model_selection import train_test_split\n",
        "from sklearn.tree import DecisionTreeClassifier\n",
        "from sklearn.metrics import accuracy_score, classification_report\n",
        "\n",
        "# Load your dataset\n",
        "# Assuming your dataset is in a DataFrame named 'data'\n",
        "# Example: data = pd.read_csv('accident_dataset.csv')\n",
        "\n",
        "# Features (X) and Target variable (y)\n",
        "features = ['Latitude', 'Longitude', 'Day_of_Week', 'Road_Type', 'Speed_limit', 'Light_Conditions', 'Weather_Conditions', 'Road_Surface_Conditions','Part_of_Day']\n",
        "X = data[features]\n",
        "y = data['Accident_Severity']\n",
        "\n",
        "# Data preprocessing: Handle missing values and encode categorical variables here if needed\n",
        "\n",
        "# Split the data into training and testing sets\n",
        "X_train, X_test, y_train, y_test = train_test_split(X, y, test_size=0.2, random_state=42)\n",
        "\n",
        "# Initialize the Decision Tree classifier\n",
        "clf = DecisionTreeClassifier(random_state=42)\n",
        "\n",
        "# Train the classifier on the training data\n",
        "clf.fit(X_train, y_train)\n",
        "\n",
        "# Make predictions on the test data\n",
        "predictions = clf.predict(X_test)\n",
        "\n",
        "# Evaluate the model\n",
        "accuracy = accuracy_score(y_test, predictions)\n",
        "print(f'Accuracy: {accuracy:.2f}')\n",
        "\n",
        "# Generate a detailed classification report\n",
        "print(classification_report(y_test, predictions))\n",
        "\n",
        "\n"
      ],
      "metadata": {
        "colab": {
          "base_uri": "https://localhost:8080/"
        },
        "id": "3junwV3EDDQf",
        "outputId": "4dcc2d7a-2a2f-4046-aff3-19318a331c22"
      },
      "execution_count": null,
      "outputs": [
        {
          "output_type": "stream",
          "name": "stdout",
          "text": [
            "Accuracy: 0.71\n",
            "              precision    recall  f1-score   support\n",
            "\n",
            "           1       0.12      0.14      0.13       265\n",
            "           2       0.85      0.82      0.84      2061\n",
            "           3       0.01      0.02      0.02       107\n",
            "\n",
            "    accuracy                           0.71      2433\n",
            "   macro avg       0.33      0.33      0.33      2433\n",
            "weighted avg       0.74      0.71      0.72      2433\n",
            "\n"
          ]
        }
      ]
    },
    {
      "cell_type": "markdown",
      "source": [
        "**Logistic Regression**"
      ],
      "metadata": {
        "id": "CkjQlrLiJ1vI"
      }
    },
    {
      "cell_type": "code",
      "source": [
        "# Import necessary libraries\n",
        "import pandas as pd\n",
        "from sklearn.model_selection import train_test_split\n",
        "from sklearn.preprocessing import StandardScaler\n",
        "from sklearn.linear_model import LogisticRegression\n",
        "from sklearn.metrics import accuracy_score, classification_report\n",
        "\n",
        "# Features (X) and Target variable (y)\n",
        "features = ['Latitude', 'Longitude', 'Day_of_Week', 'Road_Type', 'Speed_limit', 'Light_Conditions', 'Weather_Conditions', 'Road_Surface_Conditions','Part_of_Day']\n",
        "X = data[features]\n",
        "y = data['Accident_Severity']\n",
        "\n",
        "# Split the data into training and testing sets\n",
        "X_train, X_test, y_train, y_test = train_test_split(X, y, test_size=0.2, random_state=42)\n",
        "\n",
        "# Standardize features by removing the mean and scaling to unit variance\n",
        "scaler = StandardScaler()\n",
        "X_train_scaled = scaler.fit_transform(X_train)\n",
        "X_test_scaled = scaler.transform(X_test)\n",
        "\n",
        "# Initialize the Logistic Regression model\n",
        "clf = LogisticRegression(random_state=42, max_iter=1000)\n",
        "\n",
        "# Train the model on the scaled training data\n",
        "clf.fit(X_train_scaled, y_train)\n",
        "\n",
        "# Make predictions on the scaled test data\n",
        "predictions = clf.predict(X_test_scaled)\n",
        "\n",
        "# Evaluate the model\n",
        "accuracy = accuracy_score(y_test, predictions)\n",
        "print(f'Accuracy: {accuracy:.2f}')\n",
        "\n",
        "# Generate a detailed classification report\n",
        "print(classification_report(y_test, predictions))\n"
      ],
      "metadata": {
        "colab": {
          "base_uri": "https://localhost:8080/"
        },
        "id": "aXUs-lnZJS5f",
        "outputId": "e88d8b87-1440-46c9-9813-4ac736941e78"
      },
      "execution_count": null,
      "outputs": [
        {
          "output_type": "stream",
          "name": "stdout",
          "text": [
            "Accuracy: 0.85\n",
            "              precision    recall  f1-score   support\n",
            "\n",
            "           1       0.00      0.00      0.00       265\n",
            "           2       0.85      1.00      0.92      2061\n",
            "           3       0.00      0.00      0.00       107\n",
            "\n",
            "    accuracy                           0.85      2433\n",
            "   macro avg       0.28      0.33      0.31      2433\n",
            "weighted avg       0.72      0.85      0.78      2433\n",
            "\n"
          ]
        },
        {
          "output_type": "stream",
          "name": "stderr",
          "text": [
            "/usr/local/lib/python3.10/dist-packages/sklearn/metrics/_classification.py:1344: UndefinedMetricWarning: Precision and F-score are ill-defined and being set to 0.0 in labels with no predicted samples. Use `zero_division` parameter to control this behavior.\n",
            "  _warn_prf(average, modifier, msg_start, len(result))\n",
            "/usr/local/lib/python3.10/dist-packages/sklearn/metrics/_classification.py:1344: UndefinedMetricWarning: Precision and F-score are ill-defined and being set to 0.0 in labels with no predicted samples. Use `zero_division` parameter to control this behavior.\n",
            "  _warn_prf(average, modifier, msg_start, len(result))\n",
            "/usr/local/lib/python3.10/dist-packages/sklearn/metrics/_classification.py:1344: UndefinedMetricWarning: Precision and F-score are ill-defined and being set to 0.0 in labels with no predicted samples. Use `zero_division` parameter to control this behavior.\n",
            "  _warn_prf(average, modifier, msg_start, len(result))\n"
          ]
        }
      ]
    },
    {
      "cell_type": "code",
      "source": [
        "# Coefficients of Feature Importance\n",
        "\n",
        "coef_values = clf.coef_[0]\n",
        "feature_importance = pd.DataFrame({'Feature': features, 'Coefficient': coef_values})\n",
        "feature_importance = feature_importance.sort_values(by='Coefficient', ascending=False)\n",
        "print(feature_importance)"
      ],
      "metadata": {
        "colab": {
          "base_uri": "https://localhost:8080/"
        },
        "id": "v52yqyabKIU3",
        "outputId": "faaaf8ee-71c6-45ee-96b8-31f2c5759578"
      },
      "execution_count": null,
      "outputs": [
        {
          "output_type": "stream",
          "name": "stdout",
          "text": [
            "                   Feature  Coefficient\n",
            "6       Weather_Conditions     0.076781\n",
            "2              Day_of_Week     0.037416\n",
            "4              Speed_limit     0.018714\n",
            "3                Road_Type     0.003267\n",
            "0                 Latitude    -0.002872\n",
            "1                Longitude    -0.004586\n",
            "8              Part_of_Day    -0.038039\n",
            "5         Light_Conditions    -0.057595\n",
            "7  Road_Surface_Conditions    -0.103302\n"
          ]
        }
      ]
    },
    {
      "cell_type": "markdown",
      "source": [
        "**Random Forest**"
      ],
      "metadata": {
        "id": "8SyQ-XTEKitc"
      }
    },
    {
      "cell_type": "code",
      "source": [
        "# Import necessary libraries\n",
        "import pandas as pd\n",
        "from sklearn.model_selection import train_test_split\n",
        "from sklearn.ensemble import RandomForestClassifier\n",
        "from sklearn.metrics import accuracy_score, classification_report\n",
        "\n",
        "# Features (X) and Target variable (y)\n",
        "features = ['Latitude', 'Longitude', 'Day_of_Week', 'Road_Type', 'Speed_limit', 'Light_Conditions', 'Weather_Conditions', 'Road_Surface_Conditions','Part_of_Day']\n",
        "X = data[features]\n",
        "y = data['Accident_Severity']\n",
        "\n",
        "# Split the data into training and testing sets\n",
        "X_train, X_test, y_train, y_test = train_test_split(X, y, test_size=0.2, random_state=42)\n",
        "\n",
        "# Initialize the Random Forest classifier\n",
        "clf = RandomForestClassifier(random_state=42, n_estimators=100)\n",
        "\n",
        "# Train the model on the training data\n",
        "clf.fit(X_train, y_train)\n",
        "\n",
        "# Make predictions on the test data\n",
        "predictions = clf.predict(X_test)\n",
        "\n",
        "# Evaluate the model\n",
        "accuracy = accuracy_score(y_test, predictions)\n",
        "print(f'Accuracy: {accuracy:.2f}')\n",
        "\n",
        "# Generate a detailed classification report\n",
        "print(classification_report(y_test, predictions))\n",
        "\n",
        "# Optionally, you can visualize feature importances\n",
        "feature_importance = pd.DataFrame({'Feature': features, 'Importance': clf.feature_importances_})\n",
        "feature_importance = feature_importance.sort_values(by='Importance', ascending=False)\n",
        "print(feature_importance)\n"
      ],
      "metadata": {
        "colab": {
          "base_uri": "https://localhost:8080/"
        },
        "id": "4gMj4yi3Kl5n",
        "outputId": "b22cb022-5d7d-45cd-dd8c-28012ca2b679"
      },
      "execution_count": null,
      "outputs": [
        {
          "output_type": "stream",
          "name": "stdout",
          "text": [
            "Accuracy: 0.84\n",
            "              precision    recall  f1-score   support\n",
            "\n",
            "           1       0.12      0.01      0.02       265\n",
            "           2       0.85      0.99      0.91      2061\n",
            "           3       0.00      0.00      0.00       107\n",
            "\n",
            "    accuracy                           0.84      2433\n",
            "   macro avg       0.32      0.33      0.31      2433\n",
            "weighted avg       0.73      0.84      0.77      2433\n",
            "\n",
            "                   Feature  Importance\n",
            "0                 Latitude    0.268609\n",
            "1                Longitude    0.266192\n",
            "4              Speed_limit    0.145836\n",
            "2              Day_of_Week    0.142144\n",
            "8              Part_of_Day    0.061713\n",
            "3                Road_Type    0.050984\n",
            "7  Road_Surface_Conditions    0.024508\n",
            "6       Weather_Conditions    0.021270\n",
            "5         Light_Conditions    0.018745\n"
          ]
        }
      ]
    },
    {
      "cell_type": "markdown",
      "source": [
        "# **Moving On With Deep Learning**"
      ],
      "metadata": {
        "id": "AD-z2tXdATF_"
      }
    },
    {
      "cell_type": "code",
      "source": [
        "from scipy.stats import skew, kurtosis\n",
        "\n",
        "features = ['Accident_Severity','Latitude', 'Longitude', 'Day_of_Week', 'Road_Type', 'Speed_limit', 'Light_Conditions', 'Weather_Conditions', 'Road_Surface_Conditions','Part_of_Day']\n",
        "\n",
        "print('Skewness:', skew(data[features]))\n",
        "print('Kurtosis:', kurtosis(data[features]))\n"
      ],
      "metadata": {
        "colab": {
          "base_uri": "https://localhost:8080/"
        },
        "id": "PrgBNbBNBZTa",
        "outputId": "c32ae23f-97a7-4d04-c490-5d79ef548d0e"
      },
      "execution_count": null,
      "outputs": [
        {
          "output_type": "stream",
          "name": "stdout",
          "text": [
            "Skewness: [-0.55776188  0.46652314  0.78223958 -0.04460023  2.32144887 -0.02315228\n",
            " -0.89185008  4.84936991  2.4819508   0.03241622]\n",
            "Kurtosis: [ 3.62624602 29.22208986 21.5415537  -1.16175129  4.53075431 -1.24475131\n",
            " -1.20460344 28.23468686  7.78686455 -1.40150103]\n"
          ]
        }
      ]
    },
    {
      "cell_type": "markdown",
      "source": [
        "Data do not follow Normality"
      ],
      "metadata": {
        "id": "L_PMgdFEGB_m"
      }
    },
    {
      "cell_type": "markdown",
      "source": [
        "**Standardization**"
      ],
      "metadata": {
        "id": "aJRph9DLAfH9"
      }
    },
    {
      "cell_type": "code",
      "source": [
        "from sklearn.preprocessing import StandardScaler\n",
        "\n",
        "# Select the features you want to standardize\n",
        "features = ['Latitude', 'Longitude', 'Day_of_Week', 'Road_Type', 'Speed_limit', 'Light_Conditions', 'Weather_Conditions', 'Road_Surface_Conditions','Part_of_Day']\n",
        "\n",
        "# Create a StandardScaler instance\n",
        "scaler = StandardScaler()\n",
        "\n",
        "# Apply standardization to the selected features\n",
        "data[features] = scaler.fit_transform(data[features])\n",
        "\n",
        "# Check mean and standard deviation of the standardized features\n",
        "print(\"Mean of Standardized Features:\")\n",
        "print(data[features].mean())\n",
        "\n",
        "print(\"\\nStandard Deviation of Standardized Features:\")\n",
        "print(data[features].std())\n",
        "\n"
      ],
      "metadata": {
        "colab": {
          "base_uri": "https://localhost:8080/"
        },
        "id": "LJEYzmpkAlzJ",
        "outputId": "bce67ef3-3b71-4fd3-b8bf-f3c5be6317c5"
      },
      "execution_count": null,
      "outputs": [
        {
          "output_type": "stream",
          "name": "stdout",
          "text": [
            "Mean of Standardized Features:\n",
            "Latitude                  -1.134508e-14\n",
            "Longitude                  3.191250e-14\n",
            "Day_of_Week               -2.102889e-16\n",
            "Road_Type                  4.673086e-17\n",
            "Speed_limit               -1.177034e-16\n",
            "Light_Conditions           3.855296e-17\n",
            "Weather_Conditions         4.147364e-17\n",
            "Road_Surface_Conditions    2.920679e-16\n",
            "Part_of_Day                1.647263e-16\n",
            "dtype: float64\n",
            "\n",
            "Standard Deviation of Standardized Features:\n",
            "Latitude                   1.000041\n",
            "Longitude                  1.000041\n",
            "Day_of_Week                1.000041\n",
            "Road_Type                  1.000041\n",
            "Speed_limit                1.000041\n",
            "Light_Conditions           1.000041\n",
            "Weather_Conditions         1.000041\n",
            "Road_Surface_Conditions    1.000041\n",
            "Part_of_Day                1.000041\n",
            "dtype: float64\n"
          ]
        },
        {
          "output_type": "stream",
          "name": "stderr",
          "text": [
            "<ipython-input-27-e54a91b9a5a7>:10: SettingWithCopyWarning: \n",
            "A value is trying to be set on a copy of a slice from a DataFrame.\n",
            "Try using .loc[row_indexer,col_indexer] = value instead\n",
            "\n",
            "See the caveats in the documentation: https://pandas.pydata.org/pandas-docs/stable/user_guide/indexing.html#returning-a-view-versus-a-copy\n",
            "  data[features] = scaler.fit_transform(data[features])\n"
          ]
        }
      ]
    },
    {
      "cell_type": "markdown",
      "source": [
        "**Data Splitting**"
      ],
      "metadata": {
        "id": "91HzDfZsKhkZ"
      }
    },
    {
      "cell_type": "code",
      "source": [
        "from sklearn.model_selection import train_test_split\n",
        "\n",
        "# X is your feature matrix after standardization, y is your target variable\n",
        "X = data[features]\n",
        "y = data['Accident_Severity']  # Replace 'Target_Variable' with the actual column name for your outcome variable\n",
        "\n",
        "# Split the data into training and testing sets (80% training, 20% testing)\n",
        "X_train, X_test, y_train, y_test = train_test_split(X, y, test_size=0.2, random_state=42)\n"
      ],
      "metadata": {
        "id": "f4qRpZzuJ4u1"
      },
      "execution_count": null,
      "outputs": []
    },
    {
      "cell_type": "markdown",
      "source": [
        "**Feature Scaling**"
      ],
      "metadata": {
        "id": "-k_255QU9pNv"
      }
    },
    {
      "cell_type": "code",
      "source": [
        "scaler = StandardScaler()\n",
        "X_train = scaler.fit_transform(X_train)\n",
        "X_test = scaler.transform(X_test)\n"
      ],
      "metadata": {
        "id": "sD_VlsPx9opU"
      },
      "execution_count": null,
      "outputs": []
    },
    {
      "cell_type": "markdown",
      "source": [
        "# **Accident Hotspot Identification**"
      ],
      "metadata": {
        "id": "dUKlBTotMq1p"
      }
    },
    {
      "cell_type": "markdown",
      "source": [
        "**K Means Clustering**"
      ],
      "metadata": {
        "id": "1cjPFQh_Mxss"
      }
    },
    {
      "cell_type": "code",
      "source": [
        "# Import necessary libraries\n",
        "import pandas as pd\n",
        "from sklearn.cluster import KMeans\n",
        "import matplotlib.pyplot as plt\n",
        "\n",
        "# Load your dataset with latitude and longitude columns\n",
        "# Example: data = pd.read_csv('accident_dataset_with_coordinates.csv')\n",
        "\n",
        "# Features (latitude and longitude)\n",
        "features = ['Latitude', 'Longitude']\n",
        "X = data[features]\n",
        "\n",
        "# Choose the number of clusters (k) - You need to determine this based on your analysis\n",
        "k = 5\n",
        "\n",
        "# Initialize the K-Means model\n",
        "kmeans = KMeans(n_clusters=k, random_state=42)\n",
        "\n",
        "# Fit the model to the data\n",
        "kmeans.fit(X)\n",
        "\n",
        "# Add cluster labels to the original dataset\n",
        "data['Cluster'] = kmeans.labels_\n",
        "\n",
        "# Visualize the clusters\n",
        "plt.figure(figsize=(10, 6))\n",
        "for i in range(k):\n",
        "    cluster_data = data[data['Cluster'] == i]\n",
        "    plt.scatter(cluster_data['Longitude'], cluster_data['Latitude'], label=f'Cluster {i}')\n",
        "plt.scatter(kmeans.cluster_centers_[:, 1], kmeans.cluster_centers_[:, 0], color='red', marker='X', label='Cluster Centers')\n",
        "plt.xlabel('Longitude')\n",
        "plt.ylabel('Latitude')\n",
        "plt.title('Accident Hotspot Clusters')\n",
        "plt.legend()\n",
        "plt.show()\n",
        "\n",
        "# Optionally, you can explore the cluster centers and cluster sizes\n",
        "print(\"Cluster Centers:\")\n",
        "print(kmeans.cluster_centers_)\n",
        "print(\"\\nCluster Sizes:\")\n",
        "print(data['Cluster'].value_counts())\n"
      ],
      "metadata": {
        "colab": {
          "base_uri": "https://localhost:8080/",
          "height": 946
        },
        "id": "hMTJpt4GM0FZ",
        "outputId": "395430ac-7865-42b4-eb01-7055c6d8f951"
      },
      "execution_count": null,
      "outputs": [
        {
          "output_type": "stream",
          "name": "stderr",
          "text": [
            "/usr/local/lib/python3.10/dist-packages/sklearn/cluster/_kmeans.py:870: FutureWarning: The default value of `n_init` will change from 10 to 'auto' in 1.4. Set the value of `n_init` explicitly to suppress the warning\n",
            "  warnings.warn(\n",
            "<ipython-input-30-863fda882c95>:23: SettingWithCopyWarning: \n",
            "A value is trying to be set on a copy of a slice from a DataFrame.\n",
            "Try using .loc[row_indexer,col_indexer] = value instead\n",
            "\n",
            "See the caveats in the documentation: https://pandas.pydata.org/pandas-docs/stable/user_guide/indexing.html#returning-a-view-versus-a-copy\n",
            "  data['Cluster'] = kmeans.labels_\n"
          ]
        },
        {
          "output_type": "display_data",
          "data": {
            "text/plain": [
              "<Figure size 1000x600 with 1 Axes>"
            ],
            "image/png": "[encoded data removed]"
          },
          "metadata": {}
        },
        {
          "output_type": "stream",
          "name": "stdout",
          "text": [
            "Cluster Centers:\n",
            "[[  0.19355948   0.0913549 ]\n",
            " [ -2.34714462   3.5037314 ]\n",
            " [-10.58260736 -10.65204075]\n",
            " [  6.51984842  -2.22067883]\n",
            " [ -0.35931146  -0.71691583]]\n",
            "\n",
            "Cluster Sizes:\n",
            "0    8666\n",
            "4    2897\n",
            "1     485\n",
            "3     103\n",
            "2      13\n",
            "Name: Cluster, dtype: int64\n"
          ]
        }
      ]
    },
    {
      "cell_type": "markdown",
      "source": [
        "**To predict Road_Surface_Conditions**"
      ],
      "metadata": {
        "id": "iNSyJ5GbQiUd"
      }
    },
    {
      "cell_type": "code",
      "source": [
        "import datetime\n",
        "\n",
        "def classify_hour(dt):\n",
        "    hour = dt.hour\n",
        "\n",
        "    if 6 <= hour < 12:\n",
        "        return 1\n",
        "    elif 12 <= hour < 16:\n",
        "        return 2\n",
        "    elif 16 <= hour < 19:\n",
        "        return 3\n",
        "    else:\n",
        "        return 4\n",
        "\n",
        "current_datetime = datetime.datetime.now()\n",
        "Part_of_day = classify_hour(current_datetime)\n"
      ],
      "metadata": {
        "id": "AkstHShXQW-j"
      },
      "execution_count": null,
      "outputs": []
    },
    {
      "cell_type": "code",
      "source": [
        "def classify_day(dt):\n",
        "    return dt.strftime(\"%w\")\n",
        "\n",
        "Day_of_week = classify_day(current_datetime)\n",
        "Day_of_week=1"
      ],
      "metadata": {
        "id": "e3Uq8KJRrd5D"
      },
      "execution_count": null,
      "outputs": []
    },
    {
      "cell_type": "code",
      "source": [
        "if(Part_of_day == 4):\n",
        "  Light_Conditions = 1\n",
        "else:\n",
        "  Light_Conditions = 2"
      ],
      "metadata": {
        "id": "p_-NwpUxqYHs"
      },
      "execution_count": null,
      "outputs": []
    },
    {
      "cell_type": "code",
      "source": [
        "Speed_Limit=30"
      ],
      "metadata": {
        "id": "N6FIPjz7QeCJ"
      },
      "execution_count": null,
      "outputs": []
    },
    {
      "cell_type": "code",
      "source": [
        "Road_Type=3"
      ],
      "metadata": {
        "id": "ZiDljIVJQmRo"
      },
      "execution_count": null,
      "outputs": []
    },
    {
      "cell_type": "code",
      "source": [
        "pip install openrouteservice"
      ],
      "metadata": {
        "colab": {
          "base_uri": "https://localhost:8080/"
        },
        "id": "4WQxcxDQrcJe",
        "outputId": "35754eeb-56ee-4e3c-b5c5-8b76464793b3"
      },
      "execution_count": null,
      "outputs": [
        {
          "output_type": "stream",
          "name": "stdout",
          "text": [
            "Collecting openrouteservice\n",
            "  Downloading openrouteservice-2.3.3-py3-none-any.whl (33 kB)\n",
            "Requirement already satisfied: requests>=2.0 in /usr/local/lib/python3.10/dist-packages (from openrouteservice) (2.31.0)\n",
            "Requirement already satisfied: charset-normalizer<4,>=2 in /usr/local/lib/python3.10/dist-packages (from requests>=2.0->openrouteservice) (3.3.2)\n",
            "Requirement already satisfied: idna<4,>=2.5 in /usr/local/lib/python3.10/dist-packages (from requests>=2.0->openrouteservice) (3.4)\n",
            "Requirement already satisfied: urllib3<3,>=1.21.1 in /usr/local/lib/python3.10/dist-packages (from requests>=2.0->openrouteservice) (2.0.7)\n",
            "Requirement already satisfied: certifi>=2017.4.17 in /usr/local/lib/python3.10/dist-packages (from requests>=2.0->openrouteservice) (2023.7.22)\n",
            "Installing collected packages: openrouteservice\n",
            "Successfully installed openrouteservice-2.3.3\n"
          ]
        }
      ]
    },
    {
      "cell_type": "code",
      "source": [
        "import openrouteservice\n",
        "import folium\n",
        "import numpy as np\n",
        "\n",
        "# Replace 'YOUR_API_KEY' with your actual OpenRouteService API key\n",
        "API_KEY = '5b3ce3597851110001cf6248819325cd866b46219590f86ed075f012'\n",
        "\n",
        "# Get user input for source and destination addresses\n",
        "source_address = input(\"Enter the complete source address: \")\n",
        "destination_address = input(\"Enter the complete destination address: \")\n",
        "\n",
        "# Initialize OpenRouteService client\n",
        "client = openrouteservice.Client(key=API_KEY)\n",
        "\n",
        "# Geocode source and destination addresses to coordinates\n",
        "try:\n",
        "    source_coords = client.pelias_search(source_address)['features'][0]['geometry']['coordinates']\n",
        "    destination_coords = client.pelias_search(destination_address)['features'][0]['geometry']['coordinates']\n",
        "except IndexError:\n",
        "    print(\"Error: Unable to geocode the provided addresses.\")\n",
        "    exit()\n",
        "\n",
        "# Get route directions\n",
        "route = client.directions(profile='driving-car', coordinates=[source_coords, destination_coords], format='geojson')\n",
        "\n",
        "# Extract route geometry\n",
        "route_geometry = route['features'][0]['geometry']['coordinates']\n",
        "\n",
        "# Extract latitude and longitude coordinates from route geometry\n",
        "latitude = [coord[1] for coord in route_geometry]\n",
        "longitude = [coord[0] for coord in route_geometry]\n",
        "\n",
        "# Determine the number of points you want (e.g., 10 points)\n",
        "num_points = 10\n",
        "\n",
        "# Calculate the step size to evenly spread the points\n",
        "step_size = len(latitude) // num_points\n",
        "\n",
        "# Select every 'step_size' point between source and destination\n",
        "latitudes = latitude[::step_size]\n",
        "longitudes = longitude[::step_size]\n",
        "\n",
        "# Create a map using folium\n",
        "map_object = folium.Map(location=[source_coords[1], source_coords[0]], zoom_start=10)\n",
        "\n",
        "# Create a polyline to represent the route\n",
        "route_points = [(coord[1], coord[0]) for coord in route_geometry]\n",
        "folium.PolyLine(locations=route_points, color='blue').add_to(map_object)\n",
        "\n",
        "# Mark the source and destination points on the map\n",
        "folium.Marker(location=[source_coords[1], source_coords[0]], popup='Source').add_to(map_object)\n",
        "folium.Marker(location=[destination_coords[1], destination_coords[0]], popup='Destination').add_to(map_object)\n",
        "\n",
        "\n",
        "# Save the map as an HTML file\n",
        "map_object.save('route_map.html')\n",
        "\n",
        "print(\"Route map with selected points created and saved as 'route_map.html'.\")\n",
        "\n"
      ],
      "metadata": {
        "colab": {
          "base_uri": "https://localhost:8080/"
        },
        "id": "azYGUbe8FYew",
        "outputId": "ee87823e-b77e-4c6c-b382-e499a62007ca"
      },
      "execution_count": null,
      "outputs": [
        {
          "output_type": "stream",
          "name": "stdout",
          "text": [
            "Enter the complete source address: madurai\n",
            "Enter the complete destination address: sivakasi\n",
            "Route map with selected points created and saved as 'route_map.html'.\n"
          ]
        }
      ]
    },
    {
      "cell_type": "code",
      "source": [
        "import requests\n",
        "\n",
        "def classify_weather(weather, temperature, humidity, wind_speed):\n",
        "    if \"clear\" in weather.lower():\n",
        "        return 5\n",
        "    elif temperature > 30:\n",
        "        return 1\n",
        "    elif \"cloud\" in weather.lower():\n",
        "        return 3\n",
        "    elif wind_speed > 5:\n",
        "        return 2\n",
        "    else:\n",
        "        return 4\n",
        "\n",
        "def get_weather(api_key, latitudes, longitudes):\n",
        "    weather_data_list = []\n",
        "    weather_conditions_list = []  # Array to store classified weather conditions\n",
        "    for lat, lon in zip(latitudes, longitudes):\n",
        "        url = f\"http://api.openweathermap.org/data/2.5/weather?lat={lat}&lon={lon}&appid={api_key}\"\n",
        "        response = requests.get(url)\n",
        "        data = response.json()\n",
        "\n",
        "        if response.status_code == 200:\n",
        "            weather_description = data['weather'][0]['description']\n",
        "            temperature = data['main']['temp'] - 273.15  # Temperature in Celsius\n",
        "            humidity = data['main']['humidity']\n",
        "            wind_speed = data['wind']['speed']\n",
        "            weather_condition = classify_weather(weather_description, temperature, humidity, wind_speed)\n",
        "            weather_conditions_list.append(weather_condition)  # Append the classified weather condition to the list\n",
        "            weather_data_list.append({\n",
        "                'latitude': lat,\n",
        "                'longitude': lon,\n",
        "                'weather_description': weather_description.capitalize(),\n",
        "                'temperature': temperature,\n",
        "                'humidity': humidity,\n",
        "                'wind_speed': wind_speed,\n",
        "                'weather_condition': weather_condition  # Add classified weather condition to the dictionary\n",
        "            })\n",
        "        else:\n",
        "            weather_data_list.append({\n",
        "                'latitude': lat,\n",
        "                'longitude': lon,\n",
        "                'error': 'Failed to fetch weather data'\n",
        "            })\n",
        "    return weather_data_list, weather_conditions_list  # Return both weather data and weather conditions list\n",
        "\n",
        "# Replace 'YOUR_API_KEY' with your actual OpenWeatherMap API key\n",
        "api_key = '690ecc09fee9e91c80bdb20344f01542'\n",
        "\n",
        "weather_data, weather_conditions = get_weather(api_key, latitudes, longitudes)\n",
        "\n",
        "print(\"Predicted Weather Conditions:\", weather_conditions)\n"
      ],
      "metadata": {
        "colab": {
          "base_uri": "https://localhost:8080/"
        },
        "id": "f6eTckkHaVs-",
        "outputId": "51af0380-19aa-4376-a2e3-99752bec9377"
      },
      "execution_count": null,
      "outputs": [
        {
          "output_type": "stream",
          "name": "stdout",
          "text": [
            "Predicted Weather Conditions: [4, 4, 4, 4, 4, 4, 4, 3, 3, 3, 3]\n"
          ]
        }
      ]
    },
    {
      "cell_type": "code",
      "source": [
        "import pandas as pd\n",
        "from sklearn.model_selection import train_test_split\n",
        "from sklearn.preprocessing import StandardScaler\n",
        "from tensorflow.keras.models import Sequential\n",
        "from tensorflow.keras.layers import Dense\n",
        "\n",
        "# Drop the 'Accident_Severity' column\n",
        "column_names = ['Latitude', 'Longitude', 'Day_of_Week', 'Road_Type', 'Speed_limit', 'Light_Conditions', 'Weather_Conditions', 'Part_of_Day']\n",
        "X = data[column_names]\n",
        "\n",
        "# Convert Road_Surface_Conditions to categorical type\n",
        "data['Road_Surface_Conditions'] = data['Road_Surface_Conditions'].astype('category')\n",
        "\n",
        "# Now, you can use the cat.codes attribute to convert it to numerical labels\n",
        "data['Road_Surface_Conditions'] = data['Road_Surface_Conditions'].cat.codes\n",
        "\n",
        "# Target variable\n",
        "y = data['Road_Surface_Conditions']\n",
        "\n",
        "# Standardize features\n",
        "scaler = StandardScaler()\n",
        "X_scaled = scaler.fit_transform(X)\n",
        "\n",
        "# Split data into training and testing sets\n",
        "X_train, X_test, y_train, y_test = train_test_split(X_scaled, y, test_size=0.2, random_state=42)\n",
        "\n",
        "# Build the model\n",
        "model = Sequential()\n",
        "model.add(Dense(64, input_dim=X_scaled.shape[1], activation='relu'))  # Input shape based on the number of features\n",
        "model.add(Dense(32, activation='relu'))\n",
        "model.add(Dense(1, activation='linear'))  # Output layer for regression task\n",
        "\n",
        "# Compile the model\n",
        "model.compile(loss='mean_squared_error', optimizer='adam')\n",
        "\n",
        "# Train the model\n",
        "model.fit(X_train, y_train, epochs=50, batch_size=32, validation_split=0.1)\n",
        "\n",
        "# Evaluate the model on the test set\n",
        "test_loss = model.evaluate(X_test, y_test)\n",
        "\n",
        "print(f'Test Loss: {test_loss}')\n"
      ],
      "metadata": {
        "colab": {
          "base_uri": "https://localhost:8080/"
        },
        "id": "kjYUrGhqRwqH",
        "outputId": "3f7630f1-658e-449a-fbae-aebb0822ac79"
      },
      "execution_count": null,
      "outputs": [
        {
          "output_type": "stream",
          "name": "stderr",
          "text": [
            "<ipython-input-41-0d4f8702d6d9>:12: SettingWithCopyWarning: \n",
            "A value is trying to be set on a copy of a slice from a DataFrame.\n",
            "Try using .loc[row_indexer,col_indexer] = value instead\n",
            "\n",
            "See the caveats in the documentation: https://pandas.pydata.org/pandas-docs/stable/user_guide/indexing.html#returning-a-view-versus-a-copy\n",
            "  data['Road_Surface_Conditions'] = data['Road_Surface_Conditions'].astype('category')\n",
            "<ipython-input-41-0d4f8702d6d9>:15: SettingWithCopyWarning: \n",
            "A value is trying to be set on a copy of a slice from a DataFrame.\n",
            "Try using .loc[row_indexer,col_indexer] = value instead\n",
            "\n",
            "See the caveats in the documentation: https://pandas.pydata.org/pandas-docs/stable/user_guide/indexing.html#returning-a-view-versus-a-copy\n",
            "  data['Road_Surface_Conditions'] = data['Road_Surface_Conditions'].cat.codes\n"
          ]
        },
        {
          "output_type": "stream",
          "name": "stdout",
          "text": [
            "Epoch 1/50\n",
            "274/274 [==============================] - 2s 4ms/step - loss: 0.1047 - val_loss: 0.0933\n",
            "Epoch 2/50\n",
            "274/274 [==============================] - 1s 3ms/step - loss: 0.0799 - val_loss: 0.0953\n",
            "Epoch 3/50\n",
            "274/274 [==============================] - 1s 3ms/step - loss: 0.0775 - val_loss: 0.0859\n",
            "Epoch 4/50\n",
            "274/274 [==============================] - 1s 3ms/step - loss: 0.0763 - val_loss: 0.0835\n",
            "Epoch 5/50\n",
            "274/274 [==============================] - 1s 3ms/step - loss: 0.0745 - val_loss: 0.0869\n",
            "Epoch 6/50\n",
            "274/274 [==============================] - 1s 2ms/step - loss: 0.0748 - val_loss: 0.0844\n",
            "Epoch 7/50\n",
            "274/274 [==============================] - 1s 3ms/step - loss: 0.0743 - val_loss: 0.0840\n",
            "Epoch 8/50\n",
            "274/274 [==============================] - 1s 3ms/step - loss: 0.0731 - val_loss: 0.0824\n",
            "Epoch 9/50\n",
            "274/274 [==============================] - 1s 3ms/step - loss: 0.0728 - val_loss: 0.0853\n",
            "Epoch 10/50\n",
            "274/274 [==============================] - 1s 2ms/step - loss: 0.0736 - val_loss: 0.0846\n",
            "Epoch 11/50\n",
            "274/274 [==============================] - 1s 2ms/step - loss: 0.0723 - val_loss: 0.0895\n",
            "Epoch 12/50\n",
            "274/274 [==============================] - 1s 2ms/step - loss: 0.0734 - val_loss: 0.0814\n",
            "Epoch 13/50\n",
            "274/274 [==============================] - 1s 2ms/step - loss: 0.0719 - val_loss: 0.0860\n",
            "Epoch 14/50\n",
            "274/274 [==============================] - 1s 2ms/step - loss: 0.0722 - val_loss: 0.0865\n",
            "Epoch 15/50\n",
            "274/274 [==============================] - 1s 2ms/step - loss: 0.0715 - val_loss: 0.0865\n",
            "Epoch 16/50\n",
            "274/274 [==============================] - 1s 2ms/step - loss: 0.0718 - val_loss: 0.0831\n",
            "Epoch 17/50\n",
            "274/274 [==============================] - 1s 2ms/step - loss: 0.0707 - val_loss: 0.0844\n",
            "Epoch 18/50\n",
            "274/274 [==============================] - 1s 2ms/step - loss: 0.0712 - val_loss: 0.0830\n",
            "Epoch 19/50\n",
            "274/274 [==============================] - 1s 2ms/step - loss: 0.0711 - val_loss: 0.0827\n",
            "Epoch 20/50\n",
            "274/274 [==============================] - 1s 2ms/step - loss: 0.0711 - val_loss: 0.0822\n",
            "Epoch 21/50\n",
            "274/274 [==============================] - 1s 2ms/step - loss: 0.0705 - val_loss: 0.0849\n",
            "Epoch 22/50\n",
            "274/274 [==============================] - 1s 2ms/step - loss: 0.0711 - val_loss: 0.0827\n",
            "Epoch 23/50\n",
            "274/274 [==============================] - 1s 2ms/step - loss: 0.0703 - val_loss: 0.0843\n",
            "Epoch 24/50\n",
            "274/274 [==============================] - 1s 2ms/step - loss: 0.0705 - val_loss: 0.0832\n",
            "Epoch 25/50\n",
            "274/274 [==============================] - 1s 2ms/step - loss: 0.0704 - val_loss: 0.0841\n",
            "Epoch 26/50\n",
            "274/274 [==============================] - 1s 2ms/step - loss: 0.0701 - val_loss: 0.0838\n",
            "Epoch 27/50\n",
            "274/274 [==============================] - 1s 2ms/step - loss: 0.0700 - val_loss: 0.0837\n",
            "Epoch 28/50\n",
            "274/274 [==============================] - 1s 2ms/step - loss: 0.0704 - val_loss: 0.0837\n",
            "Epoch 29/50\n",
            "274/274 [==============================] - 1s 3ms/step - loss: 0.0699 - val_loss: 0.0841\n",
            "Epoch 30/50\n",
            "274/274 [==============================] - 1s 3ms/step - loss: 0.0702 - val_loss: 0.0817\n",
            "Epoch 31/50\n",
            "274/274 [==============================] - 1s 3ms/step - loss: 0.0694 - val_loss: 0.0846\n",
            "Epoch 32/50\n",
            "274/274 [==============================] - 1s 3ms/step - loss: 0.0690 - val_loss: 0.0811\n",
            "Epoch 33/50\n",
            "274/274 [==============================] - 1s 3ms/step - loss: 0.0698 - val_loss: 0.0814\n",
            "Epoch 34/50\n",
            "274/274 [==============================] - 1s 3ms/step - loss: 0.0684 - val_loss: 0.0822\n",
            "Epoch 35/50\n",
            "274/274 [==============================] - 1s 3ms/step - loss: 0.0693 - val_loss: 0.0837\n",
            "Epoch 36/50\n",
            "274/274 [==============================] - 1s 3ms/step - loss: 0.0691 - val_loss: 0.0837\n",
            "Epoch 37/50\n",
            "274/274 [==============================] - 1s 3ms/step - loss: 0.0689 - val_loss: 0.0822\n",
            "Epoch 38/50\n",
            "274/274 [==============================] - 1s 2ms/step - loss: 0.0687 - val_loss: 0.0839\n",
            "Epoch 39/50\n",
            "274/274 [==============================] - 1s 2ms/step - loss: 0.0685 - val_loss: 0.0826\n",
            "Epoch 40/50\n",
            "274/274 [==============================] - 1s 2ms/step - loss: 0.0680 - val_loss: 0.0876\n",
            "Epoch 41/50\n",
            "274/274 [==============================] - 1s 2ms/step - loss: 0.0682 - val_loss: 0.0810\n",
            "Epoch 42/50\n",
            "274/274 [==============================] - 1s 2ms/step - loss: 0.0678 - val_loss: 0.0850\n",
            "Epoch 43/50\n",
            "274/274 [==============================] - 1s 2ms/step - loss: 0.0684 - val_loss: 0.0820\n",
            "Epoch 44/50\n",
            "274/274 [==============================] - 1s 2ms/step - loss: 0.0680 - val_loss: 0.0843\n",
            "Epoch 45/50\n",
            "274/274 [==============================] - 1s 2ms/step - loss: 0.0678 - val_loss: 0.0831\n",
            "Epoch 46/50\n",
            "274/274 [==============================] - 1s 2ms/step - loss: 0.0676 - val_loss: 0.0840\n",
            "Epoch 47/50\n",
            "274/274 [==============================] - 1s 2ms/step - loss: 0.0671 - val_loss: 0.0823\n",
            "Epoch 48/50\n",
            "274/274 [==============================] - 1s 2ms/step - loss: 0.0680 - val_loss: 0.0826\n",
            "Epoch 49/50\n",
            "274/274 [==============================] - 1s 2ms/step - loss: 0.0674 - val_loss: 0.0805\n",
            "Epoch 50/50\n",
            "274/274 [==============================] - 1s 2ms/step - loss: 0.0669 - val_loss: 0.0823\n",
            "77/77 [==============================] - 0s 2ms/step - loss: 0.0864\n",
            "Test Loss: 0.08643972128629684\n"
          ]
        }
      ]
    },
    {
      "cell_type": "code",
      "source": [
        "from sklearn.ensemble import RandomForestClassifier\n",
        "from sklearn.metrics import accuracy_score\n",
        "\n",
        "clf = RandomForestClassifier(random_state=42)\n",
        "clf.fit(X_train, y_train)\n",
        "\n",
        "# Make predictions on the test set\n",
        "y_pred = clf.predict(X_test)\n",
        "\n",
        "# Evaluate the model\n",
        "accuracy = accuracy_score(y_test, y_pred)\n",
        "print(\"Accuracy:\", accuracy)"
      ],
      "metadata": {
        "colab": {
          "base_uri": "https://localhost:8080/"
        },
        "id": "Yj_ftTDtUKNf",
        "outputId": "6211addb-0a62-405f-a668-4cf8cd1a6297"
      },
      "execution_count": null,
      "outputs": [
        {
          "output_type": "stream",
          "name": "stdout",
          "text": [
            "Accuracy: 0.9313604603370325\n"
          ]
        }
      ]
    },
    {
      "cell_type": "code",
      "source": [
        "input_data = { 'Speed_limit': Speed_Limit , 'Road_Type': Road_Type, 'Light_Conditions': Light_Conditions, 'Part_of_day': Part_of_day, 'Day_of_Week': Day_of_week}"
      ],
      "metadata": {
        "id": "9A5IVlF7sfo3"
      },
      "execution_count": null,
      "outputs": []
    },
    {
      "cell_type": "code",
      "source": [
        "!pip install openrouteservice"
      ],
      "metadata": {
        "colab": {
          "base_uri": "https://localhost:8080/"
        },
        "id": "i8DTEWYWhSw_",
        "outputId": "da8dee03-fb2f-46c3-ad47-42ac4522af0e"
      },
      "execution_count": null,
      "outputs": [
        {
          "output_type": "stream",
          "name": "stdout",
          "text": [
            "Requirement already satisfied: openrouteservice in /usr/local/lib/python3.10/dist-packages (2.3.3)\n",
            "Requirement already satisfied: requests>=2.0 in /usr/local/lib/python3.10/dist-packages (from openrouteservice) (2.31.0)\n",
            "Requirement already satisfied: charset-normalizer<4,>=2 in /usr/local/lib/python3.10/dist-packages (from requests>=2.0->openrouteservice) (3.3.2)\n",
            "Requirement already satisfied: idna<4,>=2.5 in /usr/local/lib/python3.10/dist-packages (from requests>=2.0->openrouteservice) (3.4)\n",
            "Requirement already satisfied: urllib3<3,>=1.21.1 in /usr/local/lib/python3.10/dist-packages (from requests>=2.0->openrouteservice) (2.0.7)\n",
            "Requirement already satisfied: certifi>=2017.4.17 in /usr/local/lib/python3.10/dist-packages (from requests>=2.0->openrouteservice) (2023.7.22)\n",
            "\u001b[31mERROR: Operation cancelled by user\u001b[0m\u001b[31m\n",
            "\u001b[0mTraceback (most recent call last):\n",
            "  File \"/usr/local/lib/python3.10/dist-packages/pip/_vendor/pkg_resources/__init__.py\", line 3108, in _dep_map\n",
            "    return self.__dep_map\n",
            "  File \"/usr/local/lib/python3.10/dist-packages/pip/_vendor/pkg_resources/__init__.py\", line 2901, in __getattr__\n",
            "    raise AttributeError(attr)\n",
            "AttributeError: _DistInfoDistribution__dep_map\n",
            "\n",
            "During handling of the above exception, another exception occurred:\n",
            "\n",
            "Traceback (most recent call last):\n",
            "  File \"/usr/local/lib/python3.10/dist-packages/pip/_internal/cli/base_command.py\", line 169, in exc_logging_wrapper\n",
            "    status = run_func(*args)\n",
            "  File \"/usr/local/lib/python3.10/dist-packages/pip/_internal/cli/req_command.py\", line 242, in wrapper\n",
            "    return func(self, options, args)\n",
            "  File \"/usr/local/lib/python3.10/dist-packages/pip/_internal/commands/install.py\", line 441, in run\n",
            "    conflicts = self._determine_conflicts(to_install)\n",
            "  File \"/usr/local/lib/python3.10/dist-packages/pip/_internal/commands/install.py\", line 572, in _determine_conflicts\n",
            "    return check_install_conflicts(to_install)\n",
            "  File \"/usr/local/lib/python3.10/dist-packages/pip/_internal/operations/check.py\", line 101, in check_install_conflicts\n",
            "    package_set, _ = create_package_set_from_installed()\n",
            "  File \"/usr/local/lib/python3.10/dist-packages/pip/_internal/operations/check.py\", line 42, in create_package_set_from_installed\n",
            "    dependencies = list(dist.iter_dependencies())\n",
            "  File \"/usr/local/lib/python3.10/dist-packages/pip/_internal/metadata/pkg_resources.py\", line 216, in iter_dependencies\n",
            "    return self._dist.requires(extras)\n",
            "  File \"/usr/local/lib/python3.10/dist-packages/pip/_vendor/pkg_resources/__init__.py\", line 2821, in requires\n",
            "    dm = self._dep_map\n",
            "  File \"/usr/local/lib/python3.10/dist-packages/pip/_vendor/pkg_resources/__init__.py\", line 3110, in _dep_map\n",
            "    self.__dep_map = self._compute_dependencies()\n",
            "  File \"/usr/local/lib/python3.10/dist-packages/pip/_vendor/pkg_resources/__init__.py\", line 3120, in _compute_dependencies\n",
            "    reqs.extend(parse_requirements(req))\n",
            "  File \"/usr/local/lib/python3.10/dist-packages/pip/_vendor/pkg_resources/__init__.py\", line 3173, in __init__\n",
            "    super(Requirement, self).__init__(requirement_string)\n",
            "  File \"/usr/local/lib/python3.10/dist-packages/pip/_vendor/packaging/requirements.py\", line 102, in __init__\n",
            "    req = REQUIREMENT.parseString(requirement_string)\n",
            "  File \"/usr/local/lib/python3.10/dist-packages/pip/_vendor/pyparsing/core.py\", line 1131, in parse_string\n",
            "    loc, tokens = self._parse(instring, 0)\n",
            "  File \"/usr/local/lib/python3.10/dist-packages/pip/_vendor/pyparsing/core.py\", line 817, in _parseNoCache\n",
            "    loc, tokens = self.parseImpl(instring, pre_loc, doActions)\n",
            "  File \"/usr/local/lib/python3.10/dist-packages/pip/_vendor/pyparsing/core.py\", line 3864, in parseImpl\n",
            "    loc, resultlist = self.exprs[0]._parse(\n",
            "  File \"/usr/local/lib/python3.10/dist-packages/pip/_vendor/pyparsing/core.py\", line 825, in _parseNoCache\n",
            "    ret_tokens = ParseResults(\n",
            "  File \"/usr/local/lib/python3.10/dist-packages/pip/_vendor/pyparsing/results.py\", line 136, in __new__\n",
            "    def __new__(cls, toklist=None, name=None, **kwargs):\n",
            "KeyboardInterrupt\n",
            "\n",
            "During handling of the above exception, another exception occurred:\n",
            "\n",
            "Traceback (most recent call last):\n",
            "  File \"/usr/local/bin/pip3\", line 8, in <module>\n",
            "    sys.exit(main())\n",
            "  File \"/usr/local/lib/python3.10/dist-packages/pip/_internal/cli/main.py\", line 79, in main\n",
            "    return command.main(cmd_args)\n",
            "  File \"/usr/local/lib/python3.10/dist-packages/pip/_internal/cli/base_command.py\", line 101, in main\n",
            "    return self._main(args)\n",
            "  File \"/usr/local/lib/python3.10/dist-packages/pip/_internal/cli/base_command.py\", line 223, in _main\n",
            "    return run(options, args)\n",
            "  File \"/usr/local/lib/python3.10/dist-packages/pip/_internal/cli/base_command.py\", line 207, in exc_logging_wrapper\n",
            "    logger.debug(\"Exception information:\", exc_info=True)\n",
            "  File \"/usr/lib/python3.10/logging/__init__.py\", line 1465, in debug\n",
            "    self._log(DEBUG, msg, args, **kwargs)\n",
            "  File \"/usr/lib/python3.10/logging/__init__.py\", line 1624, in _log\n",
            "    self.handle(record)\n",
            "  File \"/usr/lib/python3.10/logging/__init__.py\", line 1634, in handle\n",
            "    self.callHandlers(record)\n",
            "  File \"/usr/lib/python3.10/logging/__init__.py\", line 1696, in callHandlers\n",
            "    hdlr.handle(record)\n",
            "  File \"/usr/lib/python3.10/logging/__init__.py\", line 968, in handle\n",
            "    self.emit(record)\n",
            "  File \"/usr/lib/python3.10/logging/handlers.py\", line 75, in emit\n",
            "    logging.FileHandler.emit(self, record)\n",
            "  File \"/usr/lib/python3.10/logging/__init__.py\", line 1218, in emit\n",
            "    StreamHandler.emit(self, record)\n",
            "  File \"/usr/lib/python3.10/logging/__init__.py\", line 1100, in emit\n",
            "    msg = self.format(record)\n",
            "  File \"/usr/lib/python3.10/logging/__init__.py\", line 943, in format\n",
            "    return fmt.format(record)\n",
            "  File \"/usr/local/lib/python3.10/dist-packages/pip/_internal/utils/logging.py\", line 112, in format\n",
            "    formatted = super().format(record)\n",
            "  File \"/usr/lib/python3.10/logging/__init__.py\", line 686, in format\n",
            "    record.exc_text = self.formatException(record.exc_info)\n",
            "  File \"/usr/lib/python3.10/logging/__init__.py\", line 636, in formatException\n",
            "    traceback.print_exception(ei[0], ei[1], tb, None, sio)\n",
            "  File \"/usr/lib/python3.10/traceback.py\", line 119, in print_exception\n",
            "    te = TracebackException(type(value), value, tb, limit=limit, compact=True)\n",
            "  File \"/usr/lib/python3.10/traceback.py\", line 502, in __init__\n",
            "    self.stack = StackSummary.extract(\n",
            "  File \"/usr/lib/python3.10/traceback.py\", line 383, in extract\n",
            "    f.line\n",
            "  File \"/usr/lib/python3.10/traceback.py\", line 306, in line\n",
            "    self._line = linecache.getline(self.filename, self.lineno)\n",
            "  File \"/usr/lib/python3.10/linecache.py\", line 30, in getline\n",
            "    lines = getlines(filename, module_globals)\n",
            "  File \"/usr/lib/python3.10/linecache.py\", line 46, in getlines\n",
            "    return updatecache(filename, module_globals)\n",
            "  File \"/usr/lib/python3.10/linecache.py\", line 136, in updatecache\n",
            "    with tokenize.open(fullname) as fp:\n",
            "  File \"/usr/lib/python3.10/tokenize.py\", line 396, in open\n",
            "    encoding, lines = detect_encoding(buffer.readline)\n",
            "  File \"/usr/lib/python3.10/tokenize.py\", line 365, in detect_encoding\n",
            "    first = read_or_stop()\n",
            "  File \"/usr/lib/python3.10/tokenize.py\", line 323, in read_or_stop\n",
            "    return readline()\n",
            "KeyboardInterrupt\n",
            "^C\n"
          ]
        }
      ]
    },
    {
      "cell_type": "code",
      "source": [
        "input_features = []\n",
        "Road_surface_conditions = []\n",
        "\n",
        "# Iterate through the coordinates and create input features\n",
        "for lat, lon, weather_condition in zip(latitudes, longitudes, weather_conditions):\n",
        "    input_feature = [\n",
        "        lat,\n",
        "        lon,\n",
        "        input_data['Day_of_Week'],\n",
        "        input_data['Road_Type'],\n",
        "        input_data['Speed_limit'],\n",
        "        input_data['Light_Conditions'],\n",
        "        weather_condition,\n",
        "        input_data['Part_of_day']\n",
        "    ]\n",
        "    input_features.append(input_feature)\n",
        "\n",
        "# Assuming you have a pre-defined 'scaler' and 'model'\n",
        "scaler.fit(input_features)\n",
        "input_features = scaler.transform(input_features)\n",
        "\n",
        "# Make predictions for each coordinate\n",
        "predictions = model.predict(input_features)\n",
        "\n",
        "# Get the predicted class (add 1 because class labels are 1-indexed)\n",
        "predicted_classes = [np.argmax(pred) + 1 for pred in predictions]\n",
        "\n",
        "# Append the predicted classes to the list\n",
        "Road_surface_conditions.extend(predicted_classes)\n",
        "\n",
        "# Now, 'Road_surface_conditions' contains the predicted road surface condition classes for each coordinate point\n",
        "print(Road_surface_conditions)\n"
      ],
      "metadata": {
        "colab": {
          "base_uri": "https://localhost:8080/"
        },
        "id": "5ItJ_ACHA6u9",
        "outputId": "b9fcf177-8227-44ce-d021-1f77e4524bdb"
      },
      "execution_count": null,
      "outputs": [
        {
          "output_type": "stream",
          "name": "stdout",
          "text": [
            "1/1 [==============================] - 0s 131ms/step\n",
            "[1, 1, 1, 1, 1, 1, 1, 1, 1, 1, 1]\n"
          ]
        }
      ]
    },
    {
      "cell_type": "markdown",
      "source": [
        "**Predict Accidents to happen or not**"
      ],
      "metadata": {
        "id": "xnIhxevpXFEp"
      }
    },
    {
      "cell_type": "code",
      "source": [
        "import numpy as np\n",
        "\n",
        "def create_sequences(features, target, sequence_length=10):\n",
        "    sequences, labels = [], []\n",
        "    for i in range(len(features) - sequence_length):\n",
        "        seq = features[i:i + sequence_length]\n",
        "        label = target[i + sequence_length]  # Assuming the next data point is the target\n",
        "        sequences.append(seq)\n",
        "        labels.append(label)\n",
        "    return np.array(sequences), np.array(labels)\n",
        "\n",
        "# Reset the index of the DataFrame\n",
        "data.reset_index(drop=True, inplace=True)\n",
        "\n",
        "features = ['Latitude', 'Longitude', 'Day_of_Week', 'Road_Type', 'Speed_limit', 'Light_Conditions', 'Weather_Conditions', 'Part_of_Day', 'Road_Surface_Conditions']\n",
        "X = data[features]\n",
        "y = data['Accident_Severity']\n",
        "\n",
        "# Create sequences from the input features and target variable\n",
        "X_sequences, y_labels = create_sequences(X, y, sequence_length=10)\n"
      ],
      "metadata": {
        "id": "AnL7RoFP1m9h"
      },
      "execution_count": null,
      "outputs": []
    },
    {
      "cell_type": "code",
      "source": [
        "from tensorflow.keras.models import Sequential\n",
        "from tensorflow.keras.layers import LSTM, Dense\n",
        "\n",
        "lstm_model = Sequential()\n",
        "lstm_model.add(LSTM(units=50, input_shape=(X_sequences.shape[1], X_sequences.shape[2])))\n",
        "lstm_model.add(Dense(units=1))\n",
        "lstm_model.compile(optimizer='adam', loss='mean_squared_error')\n"
      ],
      "metadata": {
        "id": "qde98yAIoJke"
      },
      "execution_count": null,
      "outputs": []
    },
    {
      "cell_type": "code",
      "source": [
        "lstm_model.fit(X_sequences, y_labels, epochs=50, batch_size=32)\n"
      ],
      "metadata": {
        "colab": {
          "base_uri": "https://localhost:8080/"
        },
        "id": "E06j-WSooMJ2",
        "outputId": "9c2a7d9d-fc5d-41ea-f035-aa9dff307361"
      },
      "execution_count": null,
      "outputs": [
        {
          "output_type": "stream",
          "name": "stdout",
          "text": [
            "Epoch 1/50\n",
            "380/380 [==============================] - 12s 11ms/step - loss: 0.3755\n",
            "Epoch 2/50\n",
            "380/380 [==============================] - 5s 13ms/step - loss: 0.1484\n",
            "Epoch 3/50\n",
            "380/380 [==============================] - 6s 16ms/step - loss: 0.1463\n",
            "Epoch 4/50\n",
            "380/380 [==============================] - 3s 9ms/step - loss: 0.1455\n",
            "Epoch 5/50\n",
            "380/380 [==============================] - 2s 6ms/step - loss: 0.1448\n",
            "Epoch 6/50\n",
            "380/380 [==============================] - 2s 6ms/step - loss: 0.1450\n",
            "Epoch 7/50\n",
            "380/380 [==============================] - 2s 6ms/step - loss: 0.1442\n",
            "Epoch 8/50\n",
            "380/380 [==============================] - 3s 9ms/step - loss: 0.1435\n",
            "Epoch 9/50\n",
            "380/380 [==============================] - 3s 8ms/step - loss: 0.1435\n",
            "Epoch 10/50\n",
            "380/380 [==============================] - 2s 5ms/step - loss: 0.1427\n",
            "Epoch 11/50\n",
            "380/380 [==============================] - 2s 5ms/step - loss: 0.1430\n",
            "Epoch 12/50\n",
            "380/380 [==============================] - 2s 6ms/step - loss: 0.1424\n",
            "Epoch 13/50\n",
            "380/380 [==============================] - 2s 6ms/step - loss: 0.1420\n",
            "Epoch 14/50\n",
            "380/380 [==============================] - 3s 7ms/step - loss: 0.1413\n",
            "Epoch 15/50\n",
            "380/380 [==============================] - 3s 8ms/step - loss: 0.1415\n",
            "Epoch 16/50\n",
            "380/380 [==============================] - 3s 8ms/step - loss: 0.1403\n",
            "Epoch 17/50\n",
            "380/380 [==============================] - 2s 6ms/step - loss: 0.1394\n",
            "Epoch 18/50\n",
            "380/380 [==============================] - 2s 6ms/step - loss: 0.1384\n",
            "Epoch 19/50\n",
            "380/380 [==============================] - 2s 6ms/step - loss: 0.1374\n",
            "Epoch 20/50\n",
            "380/380 [==============================] - 2s 6ms/step - loss: 0.1368\n",
            "Epoch 21/50\n",
            "380/380 [==============================] - 2s 6ms/step - loss: 0.1364\n",
            "Epoch 22/50\n",
            "380/380 [==============================] - 3s 9ms/step - loss: 0.1350\n",
            "Epoch 23/50\n",
            "380/380 [==============================] - 3s 8ms/step - loss: 0.1344\n",
            "Epoch 24/50\n",
            "380/380 [==============================] - 2s 6ms/step - loss: 0.1331\n",
            "Epoch 25/50\n",
            "380/380 [==============================] - 2s 6ms/step - loss: 0.1327\n",
            "Epoch 26/50\n",
            "380/380 [==============================] - 2s 5ms/step - loss: 0.1318\n",
            "Epoch 27/50\n",
            "380/380 [==============================] - 2s 6ms/step - loss: 0.1308\n",
            "Epoch 28/50\n",
            "380/380 [==============================] - 3s 7ms/step - loss: 0.1299\n",
            "Epoch 29/50\n",
            "380/380 [==============================] - 3s 9ms/step - loss: 0.1291\n",
            "Epoch 30/50\n",
            "380/380 [==============================] - 3s 8ms/step - loss: 0.1282\n",
            "Epoch 31/50\n",
            "380/380 [==============================] - 2s 6ms/step - loss: 0.1271\n",
            "Epoch 32/50\n",
            "380/380 [==============================] - 2s 6ms/step - loss: 0.1262\n",
            "Epoch 33/50\n",
            "380/380 [==============================] - 2s 6ms/step - loss: 0.1254\n",
            "Epoch 34/50\n",
            "380/380 [==============================] - 2s 6ms/step - loss: 0.1237\n",
            "Epoch 35/50\n",
            "380/380 [==============================] - 3s 7ms/step - loss: 0.1230\n",
            "Epoch 36/50\n",
            "380/380 [==============================] - 3s 9ms/step - loss: 0.1218\n",
            "Epoch 37/50\n",
            "380/380 [==============================] - 3s 8ms/step - loss: 0.1212\n",
            "Epoch 38/50\n",
            "380/380 [==============================] - 2s 6ms/step - loss: 0.1199\n",
            "Epoch 39/50\n",
            "380/380 [==============================] - 2s 6ms/step - loss: 0.1187\n",
            "Epoch 40/50\n",
            "380/380 [==============================] - 2s 6ms/step - loss: 0.1169\n",
            "Epoch 41/50\n",
            "380/380 [==============================] - 2s 6ms/step - loss: 0.1157\n",
            "Epoch 42/50\n",
            "380/380 [==============================] - 3s 7ms/step - loss: 0.1146\n",
            "Epoch 43/50\n",
            "380/380 [==============================] - 5s 14ms/step - loss: 0.1124\n",
            "Epoch 44/50\n",
            "380/380 [==============================] - 4s 9ms/step - loss: 0.1114\n",
            "Epoch 45/50\n",
            "380/380 [==============================] - 2s 6ms/step - loss: 0.1098\n",
            "Epoch 46/50\n",
            "380/380 [==============================] - 2s 6ms/step - loss: 0.1077\n",
            "Epoch 47/50\n",
            "380/380 [==============================] - 2s 5ms/step - loss: 0.1070\n",
            "Epoch 48/50\n",
            "380/380 [==============================] - 3s 7ms/step - loss: 0.1050\n",
            "Epoch 49/50\n",
            "380/380 [==============================] - 3s 9ms/step - loss: 0.1033\n",
            "Epoch 50/50\n",
            "380/380 [==============================] - 3s 8ms/step - loss: 0.1017\n"
          ]
        },
        {
          "output_type": "execute_result",
          "data": {
            "text/plain": [
              "<keras.src.callbacks.History at 0x7dc23ccf7790>"
            ]
          },
          "metadata": {},
          "execution_count": 48
        }
      ]
    },
    {
      "cell_type": "code",
      "source": [
        "input_features = []\n",
        "\n",
        "# Iterate through the coordinates and create input features\n",
        "\n",
        "for lat, lon, weather_condition, road_surface_condition in zip(latitudes, longitudes, weather_conditions,Road_surface_conditions):\n",
        "    input_feature = [\n",
        "        lat,\n",
        "        lon,\n",
        "        input_data['Day_of_Week'],\n",
        "        input_data['Road_Type'],\n",
        "        input_data['Speed_limit'],\n",
        "        input_data['Light_Conditions'],\n",
        "        weather_condition,\n",
        "        input_data['Part_of_day'],\n",
        "        road_surface_condition\n",
        "    ]\n",
        "\n",
        "    input_features.append(input_feature)\n",
        "\n",
        "# Ensure that input_features is not empty\n",
        "if input_features:\n",
        "\n",
        "    scaler.fit(input_features)\n",
        "\n",
        "    input_features = scaler.transform(input_features)\n",
        "\n",
        "# Assuming input_features_scaled is  scaled 2D array with shape (209, 9)\n",
        "sequence_length = 10 # Set  sequence length to 1\n",
        "num_features = input_features.shape[1]  # Number of features in  input data\n",
        "\n",
        "# Create sequences with a length of 10 time steps\n",
        "sequences = []\n",
        "for i in range(len(input_features) - sequence_length + 1):\n",
        "    sequence = input_features[i:i + sequence_length]\n",
        "    sequences.append(sequence)\n",
        "\n",
        "# Convert the list of sequences to a numpy array\n",
        "sequences = np.array(sequences)\n",
        "\n",
        "# Reshape the sequences to match the input shape of the LSTM model\n",
        "reshaped_sequences = sequences.reshape(-1, sequence_length, num_features)\n",
        "\n",
        "# Predict with the LSTM model\n",
        "lstm_model.predictlabels = (reshaped_sequences)\n",
        "\n",
        "# 'predicted_labels' contains the model's predictions for the input sequences\n",
        "predicted_classes = np.round(predicted_labels+1).flatten().tolist()\n",
        "\n",
        "print(predicted_classes,end=\"\")"
      ],
      "metadata": {
        "colab": {
          "base_uri": "https://localhost:8080/",
          "height": 245
        },
        "id": "PALYB-n0r-5F",
        "outputId": "00b4a83d-dbbe-48f1-8ba3-9ff8e6c8d028"
      },
      "execution_count": null,
      "outputs": [
        {
          "output_type": "error",
          "ename": "NameError",
          "evalue": "ignored",
          "traceback": [
            "\u001b[0;31m---------------------------------------------------------------------------\u001b[0m",
            "\u001b[0;31mNameError\u001b[0m                                 Traceback (most recent call last)",
            "\u001b[0;32m<ipython-input-49-70f6684bc1c4>\u001b[0m in \u001b[0;36m<cell line: 47>\u001b[0;34m()\u001b[0m\n\u001b[1;32m     45\u001b[0m \u001b[0;34m\u001b[0m\u001b[0m\n\u001b[1;32m     46\u001b[0m \u001b[0;31m# 'predicted_labels' contains the model's predictions for the input sequences\u001b[0m\u001b[0;34m\u001b[0m\u001b[0;34m\u001b[0m\u001b[0m\n\u001b[0;32m---> 47\u001b[0;31m \u001b[0mpredicted_classes\u001b[0m \u001b[0;34m=\u001b[0m \u001b[0mnp\u001b[0m\u001b[0;34m.\u001b[0m\u001b[0mround\u001b[0m\u001b[0;34m(\u001b[0m\u001b[0mpredicted_labels\u001b[0m\u001b[0;34m+\u001b[0m\u001b[0;36m1\u001b[0m\u001b[0;34m)\u001b[0m\u001b[0;34m.\u001b[0m\u001b[0mflatten\u001b[0m\u001b[0;34m(\u001b[0m\u001b[0;34m)\u001b[0m\u001b[0;34m.\u001b[0m\u001b[0mtolist\u001b[0m\u001b[0;34m(\u001b[0m\u001b[0;34m)\u001b[0m\u001b[0;34m\u001b[0m\u001b[0;34m\u001b[0m\u001b[0m\n\u001b[0m\u001b[1;32m     48\u001b[0m \u001b[0;34m\u001b[0m\u001b[0m\n\u001b[1;32m     49\u001b[0m \u001b[0mprint\u001b[0m\u001b[0;34m(\u001b[0m\u001b[0mpredicted_classes\u001b[0m\u001b[0;34m,\u001b[0m\u001b[0mend\u001b[0m\u001b[0;34m=\u001b[0m\u001b[0;34m\"\"\u001b[0m\u001b[0;34m)\u001b[0m\u001b[0;34m\u001b[0m\u001b[0;34m\u001b[0m\u001b[0m\n",
            "\u001b[0;31mNameError\u001b[0m: name 'predicted_labels' is not defined"
          ]
        }
      ]
    },
    {
      "cell_type": "code",
      "source": [
        "for lat, lon, prediction_class in zip(latitudes, longitudes, predicted_classes):\n",
        "    if prediction_class >= 2:\n",
        "        folium.Marker(location=[lat, lon], popup='Accident Zone ~ Go Slow!', icon=folium.Icon(color='red')).add_to(map_object)\n",
        "\n",
        "# Save the map as an HTML file\n",
        "map_object.save('route_map_with_markers.html')\n",
        "\n",
        "print(\"Route map with markers created and saved as 'route_map_with_markers.html'.\")"
      ],
      "metadata": {
        "colab": {
          "base_uri": "https://localhost:8080/"
        },
        "id": "77zr4PnoxO-G",
        "outputId": "886a1f67-136b-4650-a85e-5e750ab23f79"
      },
      "execution_count": null,
      "outputs": [
        {
          "output_type": "stream",
          "name": "stdout",
          "text": [
            "Route map with markers created and saved as 'route_map_with_markers.html'.\n"
          ]
        }
      ]
    }
  ]
}